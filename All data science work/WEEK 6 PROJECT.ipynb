{
 "cells": [
  {
   "cell_type": "markdown",
   "metadata": {},
   "source": [
    "# 1a"
   ]
  },
  {
   "cell_type": "code",
   "execution_count": 1,
   "metadata": {
    "collapsed": true
   },
   "outputs": [],
   "source": [
    "numbers = [23, 45, 990, 60, 74, 1, 89, 36, 51, 0.8]"
   ]
  },
  {
   "cell_type": "code",
   "execution_count": 2,
   "metadata": {},
   "outputs": [
    {
     "data": {
      "text/plain": [
       "[23, 45, 990, 60, 74, 1, 89, 36, 51, 0.8]"
      ]
     },
     "execution_count": 2,
     "metadata": {},
     "output_type": "execute_result"
    }
   ],
   "source": [
    "numbers"
   ]
  },
  {
   "cell_type": "markdown",
   "metadata": {},
   "source": [
    "# 1b"
   ]
  },
  {
   "cell_type": "code",
   "execution_count": 3,
   "metadata": {
    "collapsed": true
   },
   "outputs": [],
   "source": [
    "minimum = max(numbers)\n",
    "for i in range(len(numbers)):\n",
    "    if numbers[i] <= minimum:\n",
    "        minimum = numbers[i]"
   ]
  },
  {
   "cell_type": "code",
   "execution_count": 4,
   "metadata": {},
   "outputs": [
    {
     "data": {
      "text/plain": [
       "'The index of the minimum number(0.8) is 9'"
      ]
     },
     "execution_count": 4,
     "metadata": {},
     "output_type": "execute_result"
    }
   ],
   "source": [
    "'The index of the minimum number({}) is {}'.format(minimum, i)"
   ]
  },
  {
   "cell_type": "markdown",
   "metadata": {},
   "source": [
    "# 1c"
   ]
  },
  {
   "cell_type": "code",
   "execution_count": 5,
   "metadata": {
    "collapsed": true
   },
   "outputs": [],
   "source": [
    "def index_of_minimum_number(number_list):\n",
    "    minimum_number = max(number_list)\n",
    "    for i in range(len(number_list)):\n",
    "        if number_list[i] <= minimum_number:\n",
    "            minimum_number = number_list[i]\n",
    "    return 'The index of the minimum number({}) is {}'.format(minimum_number, i)"
   ]
  },
  {
   "cell_type": "code",
   "execution_count": 6,
   "metadata": {},
   "outputs": [
    {
     "data": {
      "text/plain": [
       "'The index of the minimum number(0.8) is 9'"
      ]
     },
     "execution_count": 6,
     "metadata": {},
     "output_type": "execute_result"
    }
   ],
   "source": [
    "index_of_minimum_number(numbers)"
   ]
  },
  {
   "cell_type": "markdown",
   "metadata": {},
   "source": [
    "# 2"
   ]
  },
  {
   "cell_type": "code",
   "execution_count": 7,
   "metadata": {
    "collapsed": true
   },
   "outputs": [],
   "source": [
    "def compare_string(first_string, second_string):\n",
    "    if first_string == second_string:\n",
    "        return True\n",
    "    else:\n",
    "        return False"
   ]
  },
  {
   "cell_type": "code",
   "execution_count": 8,
   "metadata": {},
   "outputs": [
    {
     "data": {
      "text/plain": [
       "False"
      ]
     },
     "execution_count": 8,
     "metadata": {},
     "output_type": "execute_result"
    }
   ],
   "source": [
    "compare_string('true', 'True')"
   ]
  },
  {
   "cell_type": "markdown",
   "metadata": {},
   "source": [
    "# 3"
   ]
  },
  {
   "cell_type": "code",
   "execution_count": 9,
   "metadata": {
    "collapsed": true
   },
   "outputs": [],
   "source": [
    "def sum_of_student_scores():\n",
    "    mathematics = None\n",
    "    english = None\n",
    "    computer = None\n",
    "    physics = None\n",
    "    geography = None\n",
    "\n",
    "    while mathematics is None:\n",
    "        try:\n",
    "            mathematics = int(input('Enter your Mathematics score: '))\n",
    "        except ValueError:\n",
    "            print('You entered an invalid number')\n",
    "    while english is None:\n",
    "        try:\n",
    "            english = int(input('Enter your English score: '))\n",
    "        except ValueError:\n",
    "            print('You entered an invalid number')\n",
    "    while computer is None:\n",
    "        try:\n",
    "            computer = int(input('Enter your Computer score: '))\n",
    "        except ValueError:\n",
    "            print('You entered an invalid number')\n",
    "    while physics is None:\n",
    "        try:\n",
    "            physics = int(input('Enter your Physics score: '))\n",
    "        except ValueError:\n",
    "            print('You entered an invalid number')\n",
    "    while geography is None:\n",
    "        try:\n",
    "            geography = int(input('Enter your Geography score: '))\n",
    "        except ValueError:\n",
    "            print('You entered an invalid number')\n",
    "    total = mathematics + english + computer + physics + geography\n",
    "    return 'Your total score is {}'.format(total)"
   ]
  },
  {
   "cell_type": "code",
   "execution_count": 10,
   "metadata": {},
   "outputs": [
    {
     "name": "stdout",
     "output_type": "stream",
     "text": [
      "Enter your Mathematics score: 89\n",
      "Enter your English score: 78\n",
      "Enter your Computer score: 90\n",
      "Enter your Physics score: 78\n",
      "Enter your Geography score: 90\n"
     ]
    },
    {
     "data": {
      "text/plain": [
       "'Your total score is 425'"
      ]
     },
     "execution_count": 10,
     "metadata": {},
     "output_type": "execute_result"
    }
   ],
   "source": [
    "sum_of_student_scores()"
   ]
  },
  {
   "cell_type": "markdown",
   "metadata": {},
   "source": [
    "# 4"
   ]
  },
  {
   "cell_type": "code",
   "execution_count": 11,
   "metadata": {
    "collapsed": true
   },
   "outputs": [],
   "source": [
    "class Course:\n",
    "    def __init__(self, name, completed):\n",
    "        self.name = name\n",
    "        self.completed = completed\n",
    "\n",
    "    def __repr__(self):\n",
    "        return \"<{} {}>\".format(self.name, self.completed)\n",
    "\n",
    "\n",
    "class Candidate:\n",
    "    def __init__(self, name):\n",
    "        self.name = name\n",
    "        self.courses = []\n",
    "\n",
    "    def __repr__(self):\n",
    "        return \"<Candidate {}, course list: {}>\".format(self.name, self.courses)\n",
    "\n",
    "    def add_course(self, name):\n",
    "        course = Course(name, False)\n",
    "        self.courses.append(course)\n",
    "\n",
    "    def delete_course(self, name):\n",
    "        course_list_remaining = list(filter(lambda c: c.name != name, self.courses))\n",
    "        self.courses = course_list_remaining\n",
    "        return self.courses\n",
    "\n",
    "    def set_completed(self, name):\n",
    "        for course in self.courses:\n",
    "            if course.name == name:\n",
    "                course.completed = True\n",
    "\n",
    "\n",
    "def menu():\n",
    "    name = input('Enter your name: ')\n",
    "    candidate = Candidate(name)\n",
    "    print(candidate)\n",
    "    selection = input(\"Enter 'a' to add a course, \"\n",
    "                      \"'v' to view list of courses, \"\n",
    "                      \"'c' to set a course as completed, \"\n",
    "                      \"'d' to delete a course, \"\n",
    "                      \"or 'q' to quit: \")\n",
    "    while selection != 'q':\n",
    "        if selection == 'a':\n",
    "            name = input('Enter the name of the course: ')\n",
    "            candidate.add_course(name)\n",
    "        elif selection == 'v':\n",
    "            for course in candidate.courses:\n",
    "                print('Name: {} Completed: {}'.format(course.name, course.completed))\n",
    "        elif selection == 'c':\n",
    "            course_name = input('Enter the course name you want to set as completed: ')\n",
    "            candidate.set_completed(course_name)\n",
    "            print('{} has been set to completed'.format(course_name))\n",
    "        elif selection == 'd':\n",
    "            name = input('Enter the name of the course you want to delete: ')\n",
    "            candidate.delete_course(name)\n",
    "        else:\n",
    "            print('Please choose from the indicated selections')\n",
    "\n",
    "        selection = input(\"Enter 'a' to add a course, \"\n",
    "                          \"'v' to view list of courses, \"\n",
    "                          \"'c' to set a course as completed, \"\n",
    "                          \"'d' to delete a course, \"\n",
    "                          \"or 'q' to quit: \")"
   ]
  },
  {
   "cell_type": "code",
   "execution_count": 12,
   "metadata": {},
   "outputs": [
    {
     "name": "stdout",
     "output_type": "stream",
     "text": [
      "Enter your name: Ayodeji\n",
      "<Candidate Ayodeji, course list: []>\n",
      "Enter 'a' to add a course, 'v' to view list of courses, 'c' to set a course as completed, 'd' to delete a course, or 'q' to quit: a\n",
      "Enter the name of the course: Data Science\n",
      "Enter 'a' to add a course, 'v' to view list of courses, 'c' to set a course as completed, 'd' to delete a course, or 'q' to quit: v\n",
      "Name: Data Science Completed: False\n",
      "Enter 'a' to add a course, 'v' to view list of courses, 'c' to set a course as completed, 'd' to delete a course, or 'q' to quit: c\n",
      "Enter the course name you want to set as completed: Data Science\n",
      "Data Science has been set to completed\n",
      "Enter 'a' to add a course, 'v' to view list of courses, 'c' to set a course as completed, 'd' to delete a course, or 'q' to quit: q\n"
     ]
    }
   ],
   "source": [
    "menu()"
   ]
  },
  {
   "cell_type": "markdown",
   "metadata": {},
   "source": [
    "# 5"
   ]
  },
  {
   "cell_type": "code",
   "execution_count": 13,
   "metadata": {
    "collapsed": true
   },
   "outputs": [],
   "source": [
    "numbers_dictionary = {}\n",
    "\n",
    "for i in range(len(numbers)):\n",
    "    numbers_dictionary[i] = numbers[i]"
   ]
  },
  {
   "cell_type": "code",
   "execution_count": 14,
   "metadata": {},
   "outputs": [
    {
     "data": {
      "text/plain": [
       "{0: 23, 1: 45, 2: 990, 3: 60, 4: 74, 5: 1, 6: 89, 7: 36, 8: 51, 9: 0.8}"
      ]
     },
     "execution_count": 14,
     "metadata": {},
     "output_type": "execute_result"
    }
   ],
   "source": [
    "numbers_dictionary"
   ]
  }
 ],
 "metadata": {
  "kernelspec": {
   "display_name": "Python 3",
   "language": "python",
   "name": "python3"
  },
  "language_info": {
   "codemirror_mode": {
    "name": "ipython",
    "version": 3
   },
   "file_extension": ".py",
   "mimetype": "text/x-python",
   "name": "python",
   "nbconvert_exporter": "python",
   "pygments_lexer": "ipython3",
   "version": "3.6.5"
  }
 },
 "nbformat": 4,
 "nbformat_minor": 2
}
