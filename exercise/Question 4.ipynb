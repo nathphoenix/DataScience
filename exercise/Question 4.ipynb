{
 "cells": [
  {
   "cell_type": "code",
   "execution_count": 1,
   "metadata": {},
   "outputs": [
    {
     "name": "stdout",
     "output_type": "stream",
     "text": [
      "9\n",
      "0.8\n"
     ]
    }
   ],
   "source": [
    "# NUMBER ONE\n",
    "numbers = [23, 45, 990, 60, 74, 1, 89, 36, 51, 0.8]\n",
    "print(numbers.index(min(numbers)))\n",
    "print(min(numbers))"
   ]
  },
  {
   "cell_type": "code",
   "execution_count": 3,
   "metadata": {},
   "outputs": [
    {
     "name": "stdout",
     "output_type": "stream",
     "text": [
      "9\n"
     ]
    }
   ],
   "source": [
    "def list_numbers():\n",
    "  numbs = [23, 45, 990, 60, 74, 1, 89, 36, 51, 0.8]\n",
    "  return numbs.index(min(numbs))\n",
    "print(list_numbers())"
   ]
  },
  {
   "cell_type": "code",
   "execution_count": 4,
   "metadata": {},
   "outputs": [
    {
     "name": "stdout",
     "output_type": "stream",
     "text": [
      "Pls enter your name nath\n",
      "Pls enter your basic salary \n",
      "20000\n",
      "Number of months worked for \n",
      "2\n",
      "You need a good paying job \n",
      "40000.0\n",
      "Thank you for participating nath\n"
     ]
    }
   ],
   "source": [
    "# NUMBER TWO\n",
    "\n",
    "annual_salary = 0\n",
    "name = input(\"Pls enter your name \")\n",
    "salary = input(\"Pls enter your basic salary \\n\")\n",
    "months = input(\"Number of months worked for \\n\")\n",
    "\n",
    "annual_salary = float(salary) * float(months)\n",
    "\n",
    "if annual_salary > 100000 :\n",
    "    print(\"You are living well \")\n",
    "else :\n",
    "    print(\"You need a good paying job \")\n",
    "print(annual_salary)\n",
    "print(\"Thank you for participating \" + name )\n"
   ]
  },
  {
   "cell_type": "code",
   "execution_count": 5,
   "metadata": {},
   "outputs": [
    {
     "name": "stdout",
     "output_type": "stream",
     "text": [
      "2019-06-10\n",
      "Welcome to demzanalytic \n",
      "Where data scientist are born \n",
      "Please Enter your name!! nath\n",
      "Enter 1 to add your scores, 2 for newsletter 1\n",
      "Enter your score in English 20\n",
      "Enter your score in Mathematics 40\n",
      "Enter your score in computer 23\n",
      "Enter your score in Physics 64\n",
      "Enter your score in Geography 23\n",
      "Hey nath\n",
      "Your total score is 170.00\n",
      "Thank you nath\n"
     ]
    }
   ],
   "source": [
    "# NUMBER THREE\n",
    "import datetime\n",
    "currentDate = datetime.date.today()\n",
    "print(currentDate)\n",
    "print(\"Welcome to demzanalytic \\nWhere data scientist are born \")\n",
    "name = input(\"Please Enter your name!! \")\n",
    "# action = input(\"what do you want to do, Enter A for subjects, B for newsletter \")\n",
    "\n",
    "# for attempt in range(chances):\n",
    "total_score = 0\n",
    "subject = int(input(\"Enter 1 to add your scores, 2 for newsletter \")) \n",
    "if subject == 1 :\n",
    "    eng = float(input(\"Enter your score in English \"))\n",
    "    maths = float(input(\"Enter your score in Mathematics \"))\n",
    "    comp = float(input(\"Enter your score in computer \"))\n",
    "    phy = float(input(\"Enter your score in Physics \"))\n",
    "    geo = float(input(\"Enter your score in Geography \"))\n",
    "\n",
    "    total_score = eng + maths + comp + phy + geo\n",
    "    print(\"Hey \" + name)\n",
    "    print('Your total score is %.2f' %  total_score)\n",
    "elif subject == 2 :\n",
    "    email = input(\"Please enter your email address \")\n",
    "    print(\"Happy subscription\")\n",
    "else:\n",
    "  if subject > 3:\n",
    "    print(\"You have made an invalid selection \")\n",
    "print(\"Thank you \" + name)\n",
    "# #  THREE END HERE\n"
   ]
  },
  {
   "cell_type": "code",
   "execution_count": 6,
   "metadata": {},
   "outputs": [
    {
     "name": "stdout",
     "output_type": "stream",
     "text": [
      "{0: 23, 1: 45, 2: 990, 3: 60, 4: 74, 5: 1, 6: 89, 7: 36, 8: 51, 9: 0.8}\n"
     ]
    }
   ],
   "source": [
    "# NUMBER FIVE RIGHT ORDER\n",
    "scores = [23, 45, 990, 60, 74, 1, 89, 36, 51, 0.8]  \n",
    "score_list = dict( [ (i,scores[i]) for i in range(len(scores)) ] )\n",
    "print (score_list)"
   ]
  },
  {
   "cell_type": "code",
   "execution_count": 9,
   "metadata": {},
   "outputs": [
    {
     "ename": "ModuleNotFoundError",
     "evalue": "No module named 'student'",
     "output_type": "error",
     "traceback": [
      "\u001b[1;31m---------------------------------------------------------------------------\u001b[0m",
      "\u001b[1;31mModuleNotFoundError\u001b[0m                       Traceback (most recent call last)",
      "\u001b[1;32m<ipython-input-9-9a8f52a85e96>\u001b[0m in \u001b[0;36m<module>\u001b[1;34m()\u001b[0m\n\u001b[0;32m      2\u001b[0m \u001b[1;32mimport\u001b[0m \u001b[0mos\u001b[0m\u001b[1;33m\u001b[0m\u001b[0m\n\u001b[0;32m      3\u001b[0m \u001b[1;33m\u001b[0m\u001b[0m\n\u001b[1;32m----> 4\u001b[1;33m \u001b[1;32mfrom\u001b[0m \u001b[0mstudent\u001b[0m \u001b[1;32mimport\u001b[0m \u001b[0mStudent\u001b[0m\u001b[1;33m\u001b[0m\u001b[0m\n\u001b[0m\u001b[0;32m      5\u001b[0m \u001b[1;33m\u001b[0m\u001b[0m\n\u001b[0;32m      6\u001b[0m \u001b[1;33m\u001b[0m\u001b[0m\n",
      "\u001b[1;31mModuleNotFoundError\u001b[0m: No module named 'student'"
     ]
    }
   ],
   "source": [
    "import json\n",
    "import os\n",
    "\n",
    "from student import Student\n",
    "\n",
    "\n",
    "def menu():\n",
    "    name = input(\"Enter your name: \")\n",
    "    filename = \"{}.txt\".format(name)\n",
    "    if file_exists(filename):\n",
    "        with open(filename, 'r') as f:\n",
    "            json_data = json.load(f)\n",
    "        student = Student.from_json(json_data)\n",
    "    \n",
    "    else:\n",
    "        student = Student(name)\n",
    "\n",
    "    course_input = input(\"Enter 'a' to add a courses, 's' to see the list of cources,\"\n",
    "                           \"'c' to set a course as Completed, 'd' to delete a course, 'l' to see the list of Completed courses,\"\n",
    "                           \", 'f' to save or 'q' to quit \")\n",
    "    while course_input != 'q':\n",
    "        if course_input == 'a':\n",
    "            course_name = input(\"Enter the course name: \")\n",
    "            student.add_course(course_name)\n",
    "        elif course_input == 's':\n",
    "            for course in student.courses:\n",
    "                print(\"name: {} completed: {}\".format(course.name, course.completed))\n",
    "        elif course_input == 'c':\n",
    "            course_name = input(\"Enter the course name to set as Completed: \")\n",
    "            student.set_completed(course_name)\n",
    "        elif course_input == 'd':\n",
    "            course_name = input(\"Enter the course name to delete: \")\n",
    "            student.delete_course(course_name)\n",
    "        elif course_input == 'l':\n",
    "            for course in student.completed_courses():\n",
    "                print(\"name: {} completed: {}\".format(course.name, course.completed))\n",
    "        elif course_input == 'f':\n",
    "            with open(filename, 'w') as f:\n",
    "                json.dump(student.json(), f)\n",
    "\n",
    "        course_input = input(\"Enter 'a' to add a courses, 's' to see the list of cources,\"\n",
    "                           \"'c' to set a course as Completed, 'd' to delete a course, 'l' to see the list of Completed courses,\"\n",
    "                           \", 'f' to save or 'q' to quit \")\n",
    "\n",
    "\n",
    "def file_exists(filename):\n",
    "    return os.path.isfile(filename)\n",
    "\n",
    "\n",
    "menu()\n",
    "\n",
    "\n",
    "\n",
    "# second file\n",
    "class Course:\n",
    "    def __init__(self, name,  completed):\n",
    "        self.name = name\n",
    "        self.completed = completed\n",
    "\n",
    "    def __repr__(self):\n",
    "        return \"<Course {}>\".format(self.name)\n",
    "\n",
    "    def json(self):\n",
    "        return {\n",
    "            'name': self.name,\n",
    "            'completed': self.completed\n",
    "        }\n",
    "\n",
    "    @classmethod\n",
    "    def from_json(cls, json_data):  \n",
    "        return Course(**json_data)\n",
    "\n",
    "#     third file\n",
    "\n",
    "from course import Course\n",
    "\n",
    "class Student:\n",
    "    def __init__(self, name):\n",
    "        self.name = name\n",
    "        self.courses = []\n",
    "\n",
    "    def __repr__(self):\n",
    "        return \"<Student {}>\".format(self.name)\n",
    "\n",
    "    def add_course(self, name):\n",
    "        course = Course(name, False)\n",
    "        self.courses.append(course)\n",
    "\n",
    "    def delete_course(self, name):\n",
    "        self.course = list(filter(lambda course: course.name != name, self.courses))\n",
    "\n",
    "    def completed_courses(self):\n",
    "        return list(filter(lambda course: course.completed, self.courses))\n",
    "\n",
    "    def set_completed(self, name):\n",
    "        for course in self.courses:\n",
    "            if course.name == name:\n",
    "                course.completed = True\n",
    "    def json(self):\n",
    "        return {\n",
    "            'name': self.name,\n",
    "            'courses': [\n",
    "                course.json() for course in self.courses\n",
    "            ]\n",
    "        }\n",
    "\n",
    "    @classmethod\n",
    "    def from_json(cls, json_data):\n",
    "        student = Student(json_data['name'])\n",
    "        courses = []\n",
    "        for course_data in json_data['courses']:\n",
    "            courses.append(Course.from_json(course_data))\n",
    "        student.courses = courses\n",
    "\n",
    "        return student\n",
    "\n"
   ]
  },
  {
   "cell_type": "code",
   "execution_count": null,
   "metadata": {},
   "outputs": [],
   "source": [
    "class Course:\n",
    "    def __init__(self, name,  completed):\n",
    "        self.name = name\n",
    "        self.completed = completed\n",
    "\n",
    "    def __repr__(self):\n",
    "        return \"<Course {}>\".format(self.name)\n",
    "\n",
    "    def json(self):\n",
    "        return {\n",
    "            'name': self.name,\n",
    "            'completed': self.completed\n",
    "        }\n",
    "\n",
    "    @classmethod\n",
    "    def from_json(cls, json_data):  \n",
    "        return Course(**json_data)\n"
   ]
  },
  {
   "cell_type": "code",
   "execution_count": null,
   "metadata": {},
   "outputs": [],
   "source": [
    "from course import Course\n",
    "\n",
    "class Student:\n",
    "    def __init__(self, name):\n",
    "        self.name = name\n",
    "        self.courses = []\n",
    "\n",
    "    def __repr__(self):\n",
    "        return \"<Student {}>\".format(self.name)\n",
    "\n",
    "    def add_course(self, name):\n",
    "        course = Course(name, False)\n",
    "        self.courses.append(course)\n",
    "\n",
    "    def delete_course(self, name):\n",
    "        self.course = list(filter(lambda course: course.name != name, self.courses))\n",
    "\n",
    "    def completed_courses(self):\n",
    "        return list(filter(lambda course: course.completed, self.courses))\n",
    "\n",
    "    def set_completed(self, name):\n",
    "        for course in self.courses:\n",
    "            if course.name == name:\n",
    "                course.completed = True\n",
    "    def json(self):\n",
    "        return {\n",
    "            'name': self.name,\n",
    "            'courses': [\n",
    "                course.json() for course in self.courses\n",
    "            ]\n",
    "        }\n",
    "\n",
    "    @classmethod\n",
    "    def from_json(cls, json_data):\n",
    "        student = Student(json_data['name'])\n",
    "        courses = []\n",
    "        for course_data in json_data['courses']:\n",
    "            courses.append(Course.from_json(course_data))\n",
    "        student.courses = courses\n",
    "\n",
    "        return student\n"
   ]
  }
 ],
 "metadata": {
  "kernelspec": {
   "display_name": "Python 3",
   "language": "python",
   "name": "python3"
  },
  "language_info": {
   "codemirror_mode": {
    "name": "ipython",
    "version": 3
   },
   "file_extension": ".py",
   "mimetype": "text/x-python",
   "name": "python",
   "nbconvert_exporter": "python",
   "pygments_lexer": "ipython3",
   "version": "3.6.5"
  }
 },
 "nbformat": 4,
 "nbformat_minor": 2
}
