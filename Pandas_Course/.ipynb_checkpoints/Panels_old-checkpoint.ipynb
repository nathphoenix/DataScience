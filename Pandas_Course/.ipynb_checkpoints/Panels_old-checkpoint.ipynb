{
 "cells": [
  {
   "cell_type": "code",
   "execution_count": 51,
   "metadata": {},
   "outputs": [],
   "source": [
    "import pandas as pd\n",
    "from pandas_datareader import data\n",
    "import pandas_datareader.data as web\n",
    "import datetime as dt"
   ]
  },
  {
   "cell_type": "code",
   "execution_count": 87,
   "metadata": {},
   "outputs": [
    {
     "name": "stderr",
     "output_type": "stream",
     "text": [
      "C:\\Users\\Maxwell\\Anaconda3\\lib\\site-packages\\IPython\\core\\interactiveshell.py:2963: FutureWarning: \n",
      "Panel is deprecated and will be removed in a future version.\n",
      "The recommended way to represent these types of 3-dimensional data are with a MultiIndex on a DataFrame, via the Panel.to_frame() method\n",
      "Alternatively, you can use the xarray package http://xarray.pydata.org/en/stable/.\n",
      "Pandas provides a `.to_xarray()` method to help automate this conversion.\n",
      "\n",
      "  exec(code_obj, self.user_global_ns, self.user_ns)\n"
     ]
    },
    {
     "data": {
      "text/plain": [
       "<class 'pandas.core.panel.Panel'>\n",
       "Dimensions: 5 (items) x 1762 (major_axis) x 6 (minor_axis)\n",
       "Items axis: MSFT to AMZN\n",
       "Major_axis axis: 2010-01-04 00:00:00 to 2016-12-30 00:00:00\n",
       "Minor_axis axis: High to Adj Close"
      ]
     },
     "execution_count": 87,
     "metadata": {},
     "output_type": "execute_result"
    }
   ],
   "source": [
    "companies = [\"MSFT\", \"GOOG\", \"AAPL\", \"Y\", \"AMZN\"]\n",
    "mask = pd.Panel(dict((stock, web.get_data_yahoo(stock, start = \"2010-01-01\", end = \"2016-12-31\")) \n",
    "                      for stock in companies))\n",
    "mask\n",
    "\n",
    "\n",
    "# companies = [\"MSFT\", \"GOOG\", \"AAPL\", \"Y\", \"AMZN\"]\n",
    "# mask = web.get_data_yahoo(name = companies, data_source = \"yahoo\", start = \"2010-01-01\", end = \"2016-12-31\")\n",
    "# mask\n",
    "\n",
    "\n",
    "# new = mask.to_xarray()\n",
    "# mask.set_index([\"2010-01-01\", \"2016-12-31\"]).to_panel()\n",
    "# mask.to_csv(\"financial\")\n",
    "# mask.to_panel()\n",
    "# mask.set_index([\"MSFT\", \"GOOG\"]).to_panel()"
   ]
  },
  {
   "cell_type": "code",
   "execution_count": 90,
   "metadata": {},
   "outputs": [
    {
     "data": {
      "text/plain": [
       "Index(['MSFT', 'GOOG', 'AAPL', 'Y', 'AMZN'], dtype='object')"
      ]
     },
     "execution_count": 90,
     "metadata": {},
     "output_type": "execute_result"
    }
   ],
   "source": [
    "mask.items"
   ]
  },
  {
   "cell_type": "code",
   "execution_count": 95,
   "metadata": {},
   "outputs": [
    {
     "data": {
      "text/plain": [
       "DatetimeIndex(['2010-01-04', '2010-01-05', '2010-01-06', '2010-01-07',\n",
       "               '2010-01-08', '2010-01-11', '2010-01-12', '2010-01-13',\n",
       "               '2010-01-14', '2010-01-15',\n",
       "               ...\n",
       "               '2016-12-16', '2016-12-19', '2016-12-20', '2016-12-21',\n",
       "               '2016-12-22', '2016-12-23', '2016-12-27', '2016-12-28',\n",
       "               '2016-12-29', '2016-12-30'],\n",
       "              dtype='datetime64[ns]', name='Date', length=1762, freq=None)"
      ]
     },
     "execution_count": 95,
     "metadata": {},
     "output_type": "execute_result"
    }
   ],
   "source": [
    "mask.major_axis"
   ]
  },
  {
   "cell_type": "code",
   "execution_count": 96,
   "metadata": {},
   "outputs": [
    {
     "data": {
      "text/plain": [
       "Index(['High', 'Low', 'Open', 'Close', 'Volume', 'Adj Close'], dtype='object')"
      ]
     },
     "execution_count": 96,
     "metadata": {},
     "output_type": "execute_result"
    }
   ],
   "source": [
    "#column is the minor axis\n",
    "mask.minor_axis"
   ]
  },
  {
   "cell_type": "code",
   "execution_count": 97,
   "metadata": {},
   "outputs": [
    {
     "data": {
      "text/plain": [
       "[Index(['MSFT', 'GOOG', 'AAPL', 'Y', 'AMZN'], dtype='object'),\n",
       " DatetimeIndex(['2010-01-04', '2010-01-05', '2010-01-06', '2010-01-07',\n",
       "                '2010-01-08', '2010-01-11', '2010-01-12', '2010-01-13',\n",
       "                '2010-01-14', '2010-01-15',\n",
       "                ...\n",
       "                '2016-12-16', '2016-12-19', '2016-12-20', '2016-12-21',\n",
       "                '2016-12-22', '2016-12-23', '2016-12-27', '2016-12-28',\n",
       "                '2016-12-29', '2016-12-30'],\n",
       "               dtype='datetime64[ns]', name='Date', length=1762, freq=None),\n",
       " Index(['High', 'Low', 'Open', 'Close', 'Volume', 'Adj Close'], dtype='object')]"
      ]
     },
     "execution_count": 97,
     "metadata": {},
     "output_type": "execute_result"
    }
   ],
   "source": [
    "#this will return  an array of the ais that makes up the panel \n",
    "mask.axes"
   ]
  },
  {
   "cell_type": "code",
   "execution_count": null,
   "metadata": {},
   "outputs": [],
   "source": []
  },
  {
   "cell_type": "code",
   "execution_count": null,
   "metadata": {},
   "outputs": [],
   "source": []
  },
  {
   "cell_type": "code",
   "execution_count": null,
   "metadata": {},
   "outputs": [],
   "source": []
  },
  {
   "cell_type": "code",
   "execution_count": 67,
   "metadata": {},
   "outputs": [
    {
     "data": {
      "text/html": [
       "<div>\n",
       "<style scoped>\n",
       "    .dataframe tbody tr th:only-of-type {\n",
       "        vertical-align: middle;\n",
       "    }\n",
       "\n",
       "    .dataframe tbody tr th {\n",
       "        vertical-align: top;\n",
       "    }\n",
       "\n",
       "    .dataframe thead th {\n",
       "        text-align: right;\n",
       "    }\n",
       "</style>\n",
       "<table border=\"1\" class=\"dataframe\">\n",
       "  <thead>\n",
       "    <tr style=\"text-align: right;\">\n",
       "      <th></th>\n",
       "      <th></th>\n",
       "      <th>MSFT</th>\n",
       "      <th>GOOG</th>\n",
       "      <th>AAPL</th>\n",
       "      <th>Y</th>\n",
       "      <th>AMZN</th>\n",
       "    </tr>\n",
       "    <tr>\n",
       "      <th>Date</th>\n",
       "      <th>minor</th>\n",
       "      <th></th>\n",
       "      <th></th>\n",
       "      <th></th>\n",
       "      <th></th>\n",
       "      <th></th>\n",
       "    </tr>\n",
       "  </thead>\n",
       "  <tbody>\n",
       "    <tr>\n",
       "      <th rowspan=\"5\" valign=\"top\">2010-01-04</th>\n",
       "      <th>High</th>\n",
       "      <td>3.110000e+01</td>\n",
       "      <td>3.135796e+02</td>\n",
       "      <td>3.064286e+01</td>\n",
       "      <td>266.512878</td>\n",
       "      <td>1.366100e+02</td>\n",
       "    </tr>\n",
       "    <tr>\n",
       "      <th>Low</th>\n",
       "      <td>3.059000e+01</td>\n",
       "      <td>3.109545e+02</td>\n",
       "      <td>3.034000e+01</td>\n",
       "      <td>261.178406</td>\n",
       "      <td>1.331400e+02</td>\n",
       "    </tr>\n",
       "    <tr>\n",
       "      <th>Open</th>\n",
       "      <td>3.062000e+01</td>\n",
       "      <td>3.123044e+02</td>\n",
       "      <td>3.049000e+01</td>\n",
       "      <td>266.512878</td>\n",
       "      <td>1.362500e+02</td>\n",
       "    </tr>\n",
       "    <tr>\n",
       "      <th>Close</th>\n",
       "      <td>3.095000e+01</td>\n",
       "      <td>3.122048e+02</td>\n",
       "      <td>3.057286e+01</td>\n",
       "      <td>263.408295</td>\n",
       "      <td>1.339000e+02</td>\n",
       "    </tr>\n",
       "    <tr>\n",
       "      <th>Volume</th>\n",
       "      <td>3.840910e+07</td>\n",
       "      <td>3.927000e+06</td>\n",
       "      <td>1.234324e+08</td>\n",
       "      <td>14600.000000</td>\n",
       "      <td>7.599900e+06</td>\n",
       "    </tr>\n",
       "  </tbody>\n",
       "</table>\n",
       "</div>"
      ],
      "text/plain": [
       "                           MSFT          GOOG          AAPL             Y  \\\n",
       "Date       minor                                                            \n",
       "2010-01-04 High    3.110000e+01  3.135796e+02  3.064286e+01    266.512878   \n",
       "           Low     3.059000e+01  3.109545e+02  3.034000e+01    261.178406   \n",
       "           Open    3.062000e+01  3.123044e+02  3.049000e+01    266.512878   \n",
       "           Close   3.095000e+01  3.122048e+02  3.057286e+01    263.408295   \n",
       "           Volume  3.840910e+07  3.927000e+06  1.234324e+08  14600.000000   \n",
       "\n",
       "                           AMZN  \n",
       "Date       minor                 \n",
       "2010-01-04 High    1.366100e+02  \n",
       "           Low     1.331400e+02  \n",
       "           Open    1.362500e+02  \n",
       "           Close   1.339000e+02  \n",
       "           Volume  7.599900e+06  "
      ]
     },
     "execution_count": 67,
     "metadata": {},
     "output_type": "execute_result"
    }
   ],
   "source": [
    "mask.to_frame().head(5)"
   ]
  },
  {
   "cell_type": "code",
   "execution_count": 73,
   "metadata": {},
   "outputs": [
    {
     "data": {
      "text/plain": [
       "Index(['MSFT', 'GOOG', 'AAPL', 'Y', 'AMZN'], dtype='object')"
      ]
     },
     "execution_count": 73,
     "metadata": {},
     "output_type": "execute_result"
    }
   ],
   "source": [
    "mask.items"
   ]
  },
  {
   "cell_type": "code",
   "execution_count": null,
   "metadata": {},
   "outputs": [],
   "source": []
  },
  {
   "cell_type": "code",
   "execution_count": 4,
   "metadata": {},
   "outputs": [],
   "source": [
    "# companies = [\"MSFT\", \"GOOG\", \"AAPL\", \"YHOO\", \"AMZN\"]\n",
    "\n",
    "# p = data.DataReader(name = companies, data_source = \"yahoo\", start = \"2004-01-01\", end =\"2009-02-02\")\n",
    "\n",
    "# p\n"
   ]
  },
  {
   "cell_type": "code",
   "execution_count": null,
   "metadata": {},
   "outputs": [],
   "source": []
  }
 ],
 "metadata": {
  "kernelspec": {
   "display_name": "Python 3",
   "language": "python",
   "name": "python3"
  },
  "language_info": {
   "codemirror_mode": {
    "name": "ipython",
    "version": 3
   },
   "file_extension": ".py",
   "mimetype": "text/x-python",
   "name": "python",
   "nbconvert_exporter": "python",
   "pygments_lexer": "ipython3",
   "version": "3.6.5"
  }
 },
 "nbformat": 4,
 "nbformat_minor": 2
}
