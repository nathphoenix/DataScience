{
 "cells": [
  {
   "cell_type": "code",
   "execution_count": 3,
   "metadata": {},
   "outputs": [
    {
     "name": "stderr",
     "output_type": "stream",
     "text": [
      "C:\\Users\\Maxwell\\Anaconda3\\lib\\site-packages\\ipykernel_launcher.py:6: FutureWarning: \n",
      "Panel is deprecated and will be removed in a future version.\n",
      "The recommended way to represent these types of 3-dimensional data are with a MultiIndex on a DataFrame, via the Panel.to_frame() method\n",
      "Alternatively, you can use the xarray package http://xarray.pydata.org/en/stable/.\n",
      "Pandas provides a `.to_xarray()` method to help automate this conversion.\n",
      "\n",
      "  \n"
     ]
    },
    {
     "data": {
      "text/plain": [
       "<class 'pandas.core.panel.Panel'>\n",
       "Dimensions: 6 (items) x 1762 (major_axis) x 5 (minor_axis)\n",
       "Items axis: High to Adj Close\n",
       "Major_axis axis: 2010-01-04 00:00:00 to 2016-12-30 00:00:00\n",
       "Minor_axis axis: AAPL to Y"
      ]
     },
     "execution_count": 3,
     "metadata": {},
     "output_type": "execute_result"
    }
   ],
   "source": [
    "#stack function is important to rearrange\n",
    "import pandas as pd\n",
    "from pandas_datareader import data\n",
    "companies = [\"MSFT\", \"GOOG\", \"AAPL\", \"Y\", \"AMZN\"]\n",
    "mask = data.DataReader(name = companies, data_source = \"yahoo\", start = \"2010-01-01\", end = \"2016-12-31\").stack()\n",
    "newmask = mask.to_panel()\n",
    "newmask"
   ]
  },
  {
   "cell_type": "code",
   "execution_count": 4,
   "metadata": {},
   "outputs": [
    {
     "data": {
      "text/plain": [
       "Index(['High', 'Low', 'Open', 'Close', 'Volume', 'Adj Close'], dtype='object', name='Attributes')"
      ]
     },
     "execution_count": 4,
     "metadata": {},
     "output_type": "execute_result"
    }
   ],
   "source": [
    "newmask.items"
   ]
  },
  {
   "cell_type": "code",
   "execution_count": 5,
   "metadata": {},
   "outputs": [
    {
     "data": {
      "text/plain": [
       "Index(['AAPL', 'AMZN', 'GOOG', 'MSFT', 'Y'], dtype='object', name='Symbols')"
      ]
     },
     "execution_count": 5,
     "metadata": {},
     "output_type": "execute_result"
    }
   ],
   "source": [
    "newmask.minor_axis"
   ]
  },
  {
   "cell_type": "code",
   "execution_count": 6,
   "metadata": {},
   "outputs": [
    {
     "data": {
      "text/plain": [
       "DatetimeIndex(['2010-01-04', '2010-01-05', '2010-01-06', '2010-01-07',\n",
       "               '2010-01-08', '2010-01-11', '2010-01-12', '2010-01-13',\n",
       "               '2010-01-14', '2010-01-15',\n",
       "               ...\n",
       "               '2016-12-16', '2016-12-19', '2016-12-20', '2016-12-21',\n",
       "               '2016-12-22', '2016-12-23', '2016-12-27', '2016-12-28',\n",
       "               '2016-12-29', '2016-12-30'],\n",
       "              dtype='datetime64[ns]', name='Date', length=1762, freq=None)"
      ]
     },
     "execution_count": 6,
     "metadata": {},
     "output_type": "execute_result"
    }
   ],
   "source": [
    "newmask.major_axis"
   ]
  },
  {
   "cell_type": "code",
   "execution_count": 7,
   "metadata": {},
   "outputs": [
    {
     "data": {
      "text/plain": [
       "[Index(['High', 'Low', 'Open', 'Close', 'Volume', 'Adj Close'], dtype='object', name='Attributes'),\n",
       " DatetimeIndex(['2010-01-04', '2010-01-05', '2010-01-06', '2010-01-07',\n",
       "                '2010-01-08', '2010-01-11', '2010-01-12', '2010-01-13',\n",
       "                '2010-01-14', '2010-01-15',\n",
       "                ...\n",
       "                '2016-12-16', '2016-12-19', '2016-12-20', '2016-12-21',\n",
       "                '2016-12-22', '2016-12-23', '2016-12-27', '2016-12-28',\n",
       "                '2016-12-29', '2016-12-30'],\n",
       "               dtype='datetime64[ns]', name='Date', length=1762, freq=None),\n",
       " Index(['AAPL', 'AMZN', 'GOOG', 'MSFT', 'Y'], dtype='object', name='Symbols')]"
      ]
     },
     "execution_count": 7,
     "metadata": {},
     "output_type": "execute_result"
    }
   ],
   "source": [
    "#this will return  an array of the axis that makes up the panel \n",
    "newmask.axes"
   ]
  },
  {
   "cell_type": "code",
   "execution_count": 12,
   "metadata": {},
   "outputs": [
    {
     "data": {
      "text/plain": [
       "3"
      ]
     },
     "execution_count": 12,
     "metadata": {},
     "output_type": "execute_result"
    }
   ],
   "source": [
    "#this gives us a tupple that gives us the measurements of the panel\n",
    "newmask.ndim"
   ]
  },
  {
   "cell_type": "code",
   "execution_count": 9,
   "metadata": {},
   "outputs": [
    {
     "data": {
      "text/plain": [
       "Attributes\n",
       "High         float64\n",
       "Low          float64\n",
       "Open         float64\n",
       "Close        float64\n",
       "Volume       float64\n",
       "Adj Close    float64\n",
       "dtype: object"
      ]
     },
     "execution_count": 9,
     "metadata": {},
     "output_type": "execute_result"
    }
   ],
   "source": [
    "mask.dtypes"
   ]
  },
  {
   "cell_type": "code",
   "execution_count": 13,
   "metadata": {},
   "outputs": [
    {
     "data": {
      "text/plain": [
       "(6, 1762, 5)"
      ]
     },
     "execution_count": 13,
     "metadata": {},
     "output_type": "execute_result"
    }
   ],
   "source": [
    "#this gives us a tupple that gives us the measurements of the panel\n",
    "newmask.shape"
   ]
  },
  {
   "cell_type": "code",
   "execution_count": 11,
   "metadata": {},
   "outputs": [
    {
     "data": {
      "text/plain": [
       "52860"
      ]
     },
     "execution_count": 11,
     "metadata": {},
     "output_type": "execute_result"
    }
   ],
   "source": [
    "#totall amount odf datas on the panel\n",
    "mask.size"
   ]
  },
  {
   "cell_type": "code",
   "execution_count": 14,
   "metadata": {},
   "outputs": [
    {
     "data": {
      "text/plain": [
       "array([[3.06428566e+01, 3.03400002e+01, 3.04899998e+01, 3.05728569e+01,\n",
       "        1.23432400e+08, 2.67827110e+01],\n",
       "       [1.36610001e+02, 1.33139999e+02, 1.36250000e+02, 1.33899994e+02,\n",
       "        7.59990000e+06, 1.33899994e+02],\n",
       "       [3.13579620e+02, 3.10954468e+02, 3.12304413e+02, 3.12204773e+02,\n",
       "        3.92700000e+06, 3.12204773e+02],\n",
       "       ...,\n",
       "       [7.82780029e+02, 7.70409973e+02, 7.82750000e+02, 7.71820007e+02,\n",
       "        1.77000000e+06, 7.71820007e+02],\n",
       "       [6.29900017e+01, 6.20299988e+01, 6.29599991e+01, 6.21399994e+01,\n",
       "        2.55799000e+07, 5.92749748e+01],\n",
       "       [6.13419983e+02, 6.06150024e+02, 6.11989990e+02, 6.08119995e+02,\n",
       "        2.82000000e+04, 5.97879883e+02]])"
      ]
     },
     "execution_count": 14,
     "metadata": {},
     "output_type": "execute_result"
    }
   ],
   "source": [
    "#this returns a nested array\n",
    "mask.values"
   ]
  },
  {
   "cell_type": "markdown",
   "metadata": {},
   "source": [
    "# Using bracket notation for extraction of data"
   ]
  },
  {
   "cell_type": "code",
   "execution_count": 15,
   "metadata": {},
   "outputs": [
    {
     "data": {
      "text/plain": [
       "<class 'pandas.core.panel.Panel'>\n",
       "Dimensions: 6 (items) x 1762 (major_axis) x 5 (minor_axis)\n",
       "Items axis: High to Adj Close\n",
       "Major_axis axis: 2010-01-04 00:00:00 to 2016-12-30 00:00:00\n",
       "Minor_axis axis: AAPL to Y"
      ]
     },
     "execution_count": 15,
     "metadata": {},
     "output_type": "execute_result"
    }
   ],
   "source": [
    "newmask"
   ]
  },
  {
   "cell_type": "code",
   "execution_count": 16,
   "metadata": {},
   "outputs": [
    {
     "data": {
      "text/plain": [
       "Index(['AAPL', 'AMZN', 'GOOG', 'MSFT', 'Y'], dtype='object', name='Symbols')"
      ]
     },
     "execution_count": 16,
     "metadata": {},
     "output_type": "execute_result"
    }
   ],
   "source": [
    "newmask.minor_axis"
   ]
  },
  {
   "cell_type": "code",
   "execution_count": 20,
   "metadata": {},
   "outputs": [
    {
     "data": {
      "text/html": [
       "<div>\n",
       "<style scoped>\n",
       "    .dataframe tbody tr th:only-of-type {\n",
       "        vertical-align: middle;\n",
       "    }\n",
       "\n",
       "    .dataframe tbody tr th {\n",
       "        vertical-align: top;\n",
       "    }\n",
       "\n",
       "    .dataframe thead th {\n",
       "        text-align: right;\n",
       "    }\n",
       "</style>\n",
       "<table border=\"1\" class=\"dataframe\">\n",
       "  <thead>\n",
       "    <tr style=\"text-align: right;\">\n",
       "      <th>Symbols</th>\n",
       "      <th>AAPL</th>\n",
       "      <th>AMZN</th>\n",
       "      <th>GOOG</th>\n",
       "      <th>MSFT</th>\n",
       "      <th>Y</th>\n",
       "    </tr>\n",
       "    <tr>\n",
       "      <th>Date</th>\n",
       "      <th></th>\n",
       "      <th></th>\n",
       "      <th></th>\n",
       "      <th></th>\n",
       "      <th></th>\n",
       "    </tr>\n",
       "  </thead>\n",
       "  <tbody>\n",
       "    <tr>\n",
       "      <th>2010-01-04</th>\n",
       "      <td>123432400.0</td>\n",
       "      <td>7599900.0</td>\n",
       "      <td>3927000.0</td>\n",
       "      <td>38409100.0</td>\n",
       "      <td>14600.0</td>\n",
       "    </tr>\n",
       "    <tr>\n",
       "      <th>2010-01-05</th>\n",
       "      <td>150476200.0</td>\n",
       "      <td>8851900.0</td>\n",
       "      <td>6031900.0</td>\n",
       "      <td>49749600.0</td>\n",
       "      <td>9600.0</td>\n",
       "    </tr>\n",
       "    <tr>\n",
       "      <th>2010-01-06</th>\n",
       "      <td>138040000.0</td>\n",
       "      <td>7178800.0</td>\n",
       "      <td>7987100.0</td>\n",
       "      <td>58182400.0</td>\n",
       "      <td>18100.0</td>\n",
       "    </tr>\n",
       "    <tr>\n",
       "      <th>2010-01-07</th>\n",
       "      <td>119282800.0</td>\n",
       "      <td>11030200.0</td>\n",
       "      <td>12876600.0</td>\n",
       "      <td>50559700.0</td>\n",
       "      <td>9300.0</td>\n",
       "    </tr>\n",
       "    <tr>\n",
       "      <th>2010-01-08</th>\n",
       "      <td>111902700.0</td>\n",
       "      <td>9830500.0</td>\n",
       "      <td>9483900.0</td>\n",
       "      <td>51197400.0</td>\n",
       "      <td>4200.0</td>\n",
       "    </tr>\n",
       "  </tbody>\n",
       "</table>\n",
       "</div>"
      ],
      "text/plain": [
       "Symbols            AAPL        AMZN        GOOG        MSFT        Y\n",
       "Date                                                                \n",
       "2010-01-04  123432400.0   7599900.0   3927000.0  38409100.0  14600.0\n",
       "2010-01-05  150476200.0   8851900.0   6031900.0  49749600.0   9600.0\n",
       "2010-01-06  138040000.0   7178800.0   7987100.0  58182400.0  18100.0\n",
       "2010-01-07  119282800.0  11030200.0  12876600.0  50559700.0   9300.0\n",
       "2010-01-08  111902700.0   9830500.0   9483900.0  51197400.0   4200.0"
      ]
     },
     "execution_count": 20,
     "metadata": {},
     "output_type": "execute_result"
    }
   ],
   "source": [
    "newmask[\"Volume\"].head(5)"
   ]
  },
  {
   "cell_type": "code",
   "execution_count": 24,
   "metadata": {},
   "outputs": [
    {
     "data": {
      "text/html": [
       "<div>\n",
       "<style scoped>\n",
       "    .dataframe tbody tr th:only-of-type {\n",
       "        vertical-align: middle;\n",
       "    }\n",
       "\n",
       "    .dataframe tbody tr th {\n",
       "        vertical-align: top;\n",
       "    }\n",
       "\n",
       "    .dataframe thead th {\n",
       "        text-align: right;\n",
       "    }\n",
       "</style>\n",
       "<table border=\"1\" class=\"dataframe\">\n",
       "  <thead>\n",
       "    <tr style=\"text-align: right;\">\n",
       "      <th>Symbols</th>\n",
       "      <th>AAPL</th>\n",
       "      <th>AMZN</th>\n",
       "      <th>GOOG</th>\n",
       "      <th>MSFT</th>\n",
       "      <th>Y</th>\n",
       "    </tr>\n",
       "    <tr>\n",
       "      <th>Date</th>\n",
       "      <th></th>\n",
       "      <th></th>\n",
       "      <th></th>\n",
       "      <th></th>\n",
       "      <th></th>\n",
       "    </tr>\n",
       "  </thead>\n",
       "  <tbody>\n",
       "    <tr>\n",
       "      <th>2010-01-04</th>\n",
       "      <td>30.490000</td>\n",
       "      <td>136.250000</td>\n",
       "      <td>312.304413</td>\n",
       "      <td>30.620001</td>\n",
       "      <td>266.512878</td>\n",
       "    </tr>\n",
       "    <tr>\n",
       "      <th>2010-01-05</th>\n",
       "      <td>30.657143</td>\n",
       "      <td>133.429993</td>\n",
       "      <td>312.418976</td>\n",
       "      <td>30.850000</td>\n",
       "      <td>265.138397</td>\n",
       "    </tr>\n",
       "    <tr>\n",
       "      <th>2010-01-06</th>\n",
       "      <td>30.625713</td>\n",
       "      <td>134.600006</td>\n",
       "      <td>311.761444</td>\n",
       "      <td>30.879999</td>\n",
       "      <td>261.956940</td>\n",
       "    </tr>\n",
       "    <tr>\n",
       "      <th>2010-01-07</th>\n",
       "      <td>30.250000</td>\n",
       "      <td>132.009995</td>\n",
       "      <td>303.562164</td>\n",
       "      <td>30.629999</td>\n",
       "      <td>261.918488</td>\n",
       "    </tr>\n",
       "    <tr>\n",
       "      <th>2010-01-08</th>\n",
       "      <td>30.042856</td>\n",
       "      <td>130.559998</td>\n",
       "      <td>294.894653</td>\n",
       "      <td>30.280001</td>\n",
       "      <td>260.476746</td>\n",
       "    </tr>\n",
       "  </tbody>\n",
       "</table>\n",
       "</div>"
      ],
      "text/plain": [
       "Symbols          AAPL        AMZN        GOOG       MSFT           Y\n",
       "Date                                                                \n",
       "2010-01-04  30.490000  136.250000  312.304413  30.620001  266.512878\n",
       "2010-01-05  30.657143  133.429993  312.418976  30.850000  265.138397\n",
       "2010-01-06  30.625713  134.600006  311.761444  30.879999  261.956940\n",
       "2010-01-07  30.250000  132.009995  303.562164  30.629999  261.918488\n",
       "2010-01-08  30.042856  130.559998  294.894653  30.280001  260.476746"
      ]
     },
     "execution_count": 24,
     "metadata": {},
     "output_type": "execute_result"
    }
   ],
   "source": [
    "newmask.Open.head(5)"
   ]
  },
  {
   "cell_type": "markdown",
   "metadata": {},
   "source": [
    "# Extracting with the .loc[], .iloc[], and .ix[] Methods"
   ]
  },
  {
   "cell_type": "code",
   "execution_count": 21,
   "metadata": {},
   "outputs": [
    {
     "name": "stderr",
     "output_type": "stream",
     "text": [
      "C:\\Users\\Maxwell\\Anaconda3\\lib\\site-packages\\ipykernel_launcher.py:5: FutureWarning: \n",
      "Panel is deprecated and will be removed in a future version.\n",
      "The recommended way to represent these types of 3-dimensional data are with a MultiIndex on a DataFrame, via the Panel.to_frame() method\n",
      "Alternatively, you can use the xarray package http://xarray.pydata.org/en/stable/.\n",
      "Pandas provides a `.to_xarray()` method to help automate this conversion.\n",
      "\n",
      "  \"\"\"\n"
     ]
    },
    {
     "data": {
      "text/plain": [
       "<class 'pandas.core.panel.Panel'>\n",
       "Dimensions: 6 (items) x 1762 (major_axis) x 5 (minor_axis)\n",
       "Items axis: High to Adj Close\n",
       "Major_axis axis: 2010-01-04 00:00:00 to 2016-12-30 00:00:00\n",
       "Minor_axis axis: AAPL to Y"
      ]
     },
     "execution_count": 21,
     "metadata": {},
     "output_type": "execute_result"
    }
   ],
   "source": [
    "import pandas as pd\n",
    "from pandas_datareader import data\n",
    "companies = [\"MSFT\", \"GOOG\", \"AAPL\", \"Y\", \"AMZN\"]\n",
    "mask = data.DataReader(name = companies, data_source = \"yahoo\", start = \"2010-01-01\", end = \"2016-12-31\").stack()\n",
    "newmask = mask.to_panel()\n",
    "newmask"
   ]
  },
  {
   "cell_type": "code",
   "execution_count": 25,
   "metadata": {},
   "outputs": [
    {
     "data": {
      "text/plain": [
       "Index(['High', 'Low', 'Open', 'Close', 'Volume', 'Adj Close'], dtype='object', name='Attributes')"
      ]
     },
     "execution_count": 25,
     "metadata": {},
     "output_type": "execute_result"
    }
   ],
   "source": [
    "newmask.items"
   ]
  },
  {
   "cell_type": "code",
   "execution_count": 33,
   "metadata": {},
   "outputs": [
    {
     "data": {
      "text/html": [
       "<div>\n",
       "<style scoped>\n",
       "    .dataframe tbody tr th:only-of-type {\n",
       "        vertical-align: middle;\n",
       "    }\n",
       "\n",
       "    .dataframe tbody tr th {\n",
       "        vertical-align: top;\n",
       "    }\n",
       "\n",
       "    .dataframe thead th {\n",
       "        text-align: right;\n",
       "    }\n",
       "</style>\n",
       "<table border=\"1\" class=\"dataframe\">\n",
       "  <thead>\n",
       "    <tr style=\"text-align: right;\">\n",
       "      <th>Symbols</th>\n",
       "      <th>AAPL</th>\n",
       "      <th>AMZN</th>\n",
       "      <th>GOOG</th>\n",
       "      <th>MSFT</th>\n",
       "      <th>Y</th>\n",
       "    </tr>\n",
       "    <tr>\n",
       "      <th>Date</th>\n",
       "      <th></th>\n",
       "      <th></th>\n",
       "      <th></th>\n",
       "      <th></th>\n",
       "      <th></th>\n",
       "    </tr>\n",
       "  </thead>\n",
       "  <tbody>\n",
       "    <tr>\n",
       "      <th>2010-01-04</th>\n",
       "      <td>30.572857</td>\n",
       "      <td>133.899994</td>\n",
       "      <td>312.204773</td>\n",
       "      <td>30.950001</td>\n",
       "      <td>263.408295</td>\n",
       "    </tr>\n",
       "    <tr>\n",
       "      <th>2010-01-05</th>\n",
       "      <td>30.625713</td>\n",
       "      <td>134.690002</td>\n",
       "      <td>310.829926</td>\n",
       "      <td>30.959999</td>\n",
       "      <td>263.312195</td>\n",
       "    </tr>\n",
       "    <tr>\n",
       "      <th>2010-01-06</th>\n",
       "      <td>30.138571</td>\n",
       "      <td>132.250000</td>\n",
       "      <td>302.994293</td>\n",
       "      <td>30.770000</td>\n",
       "      <td>263.398682</td>\n",
       "    </tr>\n",
       "    <tr>\n",
       "      <th>2010-01-07</th>\n",
       "      <td>30.082857</td>\n",
       "      <td>130.000000</td>\n",
       "      <td>295.940735</td>\n",
       "      <td>30.450001</td>\n",
       "      <td>261.418671</td>\n",
       "    </tr>\n",
       "    <tr>\n",
       "      <th>2010-01-08</th>\n",
       "      <td>30.282858</td>\n",
       "      <td>133.520004</td>\n",
       "      <td>299.885956</td>\n",
       "      <td>30.660000</td>\n",
       "      <td>259.928864</td>\n",
       "    </tr>\n",
       "    <tr>\n",
       "      <th>2010-01-11</th>\n",
       "      <td>30.015715</td>\n",
       "      <td>130.309998</td>\n",
       "      <td>299.432648</td>\n",
       "      <td>30.270000</td>\n",
       "      <td>261.745483</td>\n",
       "    </tr>\n",
       "    <tr>\n",
       "      <th>2010-01-12</th>\n",
       "      <td>29.674286</td>\n",
       "      <td>127.349998</td>\n",
       "      <td>294.137512</td>\n",
       "      <td>30.070000</td>\n",
       "      <td>258.842743</td>\n",
       "    </tr>\n",
       "    <tr>\n",
       "      <th>2010-01-13</th>\n",
       "      <td>30.092857</td>\n",
       "      <td>129.110001</td>\n",
       "      <td>292.448822</td>\n",
       "      <td>30.350000</td>\n",
       "      <td>261.860809</td>\n",
       "    </tr>\n",
       "    <tr>\n",
       "      <th>2010-01-14</th>\n",
       "      <td>29.918571</td>\n",
       "      <td>127.349998</td>\n",
       "      <td>293.823669</td>\n",
       "      <td>30.959999</td>\n",
       "      <td>260.428680</td>\n",
       "    </tr>\n",
       "    <tr>\n",
       "      <th>2010-01-15</th>\n",
       "      <td>29.418571</td>\n",
       "      <td>127.139999</td>\n",
       "      <td>288.917053</td>\n",
       "      <td>30.860001</td>\n",
       "      <td>257.593231</td>\n",
       "    </tr>\n",
       "    <tr>\n",
       "      <th>2010-01-19</th>\n",
       "      <td>30.719999</td>\n",
       "      <td>127.610001</td>\n",
       "      <td>292.712830</td>\n",
       "      <td>31.100000</td>\n",
       "      <td>259.900024</td>\n",
       "    </tr>\n",
       "    <tr>\n",
       "      <th>2010-01-20</th>\n",
       "      <td>30.247143</td>\n",
       "      <td>125.779999</td>\n",
       "      <td>289.121307</td>\n",
       "      <td>30.590000</td>\n",
       "      <td>257.352936</td>\n",
       "    </tr>\n",
       "    <tr>\n",
       "      <th>2010-01-21</th>\n",
       "      <td>29.724285</td>\n",
       "      <td>126.620003</td>\n",
       "      <td>290.401489</td>\n",
       "      <td>30.010000</td>\n",
       "      <td>255.190308</td>\n",
       "    </tr>\n",
       "    <tr>\n",
       "      <th>2010-01-22</th>\n",
       "      <td>28.250000</td>\n",
       "      <td>121.430000</td>\n",
       "      <td>273.978058</td>\n",
       "      <td>28.959999</td>\n",
       "      <td>254.825073</td>\n",
       "    </tr>\n",
       "    <tr>\n",
       "      <th>2010-01-25</th>\n",
       "      <td>29.010000</td>\n",
       "      <td>120.309998</td>\n",
       "      <td>268.991760</td>\n",
       "      <td>29.320000</td>\n",
       "      <td>258.294891</td>\n",
       "    </tr>\n",
       "    <tr>\n",
       "      <th>2010-01-26</th>\n",
       "      <td>29.420000</td>\n",
       "      <td>119.480003</td>\n",
       "      <td>270.197235</td>\n",
       "      <td>29.500000</td>\n",
       "      <td>258.189148</td>\n",
       "    </tr>\n",
       "    <tr>\n",
       "      <th>2010-01-27</th>\n",
       "      <td>29.697144</td>\n",
       "      <td>122.750000</td>\n",
       "      <td>270.037842</td>\n",
       "      <td>29.670000</td>\n",
       "      <td>260.717041</td>\n",
       "    </tr>\n",
       "    <tr>\n",
       "      <th>2010-01-28</th>\n",
       "      <td>28.469999</td>\n",
       "      <td>126.029999</td>\n",
       "      <td>266.147400</td>\n",
       "      <td>29.160000</td>\n",
       "      <td>254.738556</td>\n",
       "    </tr>\n",
       "    <tr>\n",
       "      <th>2010-01-29</th>\n",
       "      <td>27.437143</td>\n",
       "      <td>125.410004</td>\n",
       "      <td>263.980530</td>\n",
       "      <td>28.180000</td>\n",
       "      <td>250.970779</td>\n",
       "    </tr>\n",
       "    <tr>\n",
       "      <th>2010-02-01</th>\n",
       "      <td>27.818571</td>\n",
       "      <td>118.870003</td>\n",
       "      <td>265.514771</td>\n",
       "      <td>28.410000</td>\n",
       "      <td>253.911957</td>\n",
       "    </tr>\n",
       "    <tr>\n",
       "      <th>2010-02-02</th>\n",
       "      <td>27.980000</td>\n",
       "      <td>118.120003</td>\n",
       "      <td>264.568329</td>\n",
       "      <td>28.459999</td>\n",
       "      <td>254.133026</td>\n",
       "    </tr>\n",
       "    <tr>\n",
       "      <th>2010-02-03</th>\n",
       "      <td>28.461428</td>\n",
       "      <td>119.099998</td>\n",
       "      <td>269.400208</td>\n",
       "      <td>28.629999</td>\n",
       "      <td>252.345245</td>\n",
       "    </tr>\n",
       "    <tr>\n",
       "      <th>2010-02-04</th>\n",
       "      <td>27.435715</td>\n",
       "      <td>115.940002</td>\n",
       "      <td>262.406433</td>\n",
       "      <td>27.840000</td>\n",
       "      <td>249.423294</td>\n",
       "    </tr>\n",
       "    <tr>\n",
       "      <th>2010-02-05</th>\n",
       "      <td>27.922857</td>\n",
       "      <td>117.389999</td>\n",
       "      <td>264.653015</td>\n",
       "      <td>28.020000</td>\n",
       "      <td>250.384460</td>\n",
       "    </tr>\n",
       "    <tr>\n",
       "      <th>2010-02-08</th>\n",
       "      <td>27.731428</td>\n",
       "      <td>116.830002</td>\n",
       "      <td>265.738953</td>\n",
       "      <td>27.719999</td>\n",
       "      <td>248.750473</td>\n",
       "    </tr>\n",
       "    <tr>\n",
       "      <th>2010-02-09</th>\n",
       "      <td>28.027143</td>\n",
       "      <td>118.029999</td>\n",
       "      <td>267.218414</td>\n",
       "      <td>28.010000</td>\n",
       "      <td>250.384460</td>\n",
       "    </tr>\n",
       "    <tr>\n",
       "      <th>2010-02-10</th>\n",
       "      <td>27.874287</td>\n",
       "      <td>117.360001</td>\n",
       "      <td>266.227112</td>\n",
       "      <td>27.990000</td>\n",
       "      <td>248.942719</td>\n",
       "    </tr>\n",
       "    <tr>\n",
       "      <th>2010-02-11</th>\n",
       "      <td>28.381428</td>\n",
       "      <td>120.089996</td>\n",
       "      <td>267.198486</td>\n",
       "      <td>28.120001</td>\n",
       "      <td>251.633987</td>\n",
       "    </tr>\n",
       "    <tr>\n",
       "      <th>2010-02-12</th>\n",
       "      <td>28.625713</td>\n",
       "      <td>119.660004</td>\n",
       "      <td>265.564606</td>\n",
       "      <td>27.930000</td>\n",
       "      <td>253.133408</td>\n",
       "    </tr>\n",
       "    <tr>\n",
       "      <th>2010-02-16</th>\n",
       "      <td>29.057142</td>\n",
       "      <td>117.529999</td>\n",
       "      <td>269.639313</td>\n",
       "      <td>28.350000</td>\n",
       "      <td>256.843536</td>\n",
       "    </tr>\n",
       "    <tr>\n",
       "      <th>...</th>\n",
       "      <td>...</td>\n",
       "      <td>...</td>\n",
       "      <td>...</td>\n",
       "      <td>...</td>\n",
       "      <td>...</td>\n",
       "    </tr>\n",
       "    <tr>\n",
       "      <th>2016-11-17</th>\n",
       "      <td>109.949997</td>\n",
       "      <td>756.400024</td>\n",
       "      <td>771.229980</td>\n",
       "      <td>60.639999</td>\n",
       "      <td>567.510010</td>\n",
       "    </tr>\n",
       "    <tr>\n",
       "      <th>2016-11-18</th>\n",
       "      <td>110.059998</td>\n",
       "      <td>760.159973</td>\n",
       "      <td>760.539978</td>\n",
       "      <td>60.349998</td>\n",
       "      <td>566.390015</td>\n",
       "    </tr>\n",
       "    <tr>\n",
       "      <th>2016-11-21</th>\n",
       "      <td>111.730003</td>\n",
       "      <td>780.000000</td>\n",
       "      <td>769.200012</td>\n",
       "      <td>60.860001</td>\n",
       "      <td>566.020020</td>\n",
       "    </tr>\n",
       "    <tr>\n",
       "      <th>2016-11-22</th>\n",
       "      <td>111.800003</td>\n",
       "      <td>785.330017</td>\n",
       "      <td>768.270020</td>\n",
       "      <td>61.119999</td>\n",
       "      <td>565.109985</td>\n",
       "    </tr>\n",
       "    <tr>\n",
       "      <th>2016-11-23</th>\n",
       "      <td>111.230003</td>\n",
       "      <td>780.119995</td>\n",
       "      <td>760.989990</td>\n",
       "      <td>60.400002</td>\n",
       "      <td>574.710022</td>\n",
       "    </tr>\n",
       "    <tr>\n",
       "      <th>2016-11-25</th>\n",
       "      <td>111.790001</td>\n",
       "      <td>780.369995</td>\n",
       "      <td>761.679993</td>\n",
       "      <td>60.529999</td>\n",
       "      <td>576.729980</td>\n",
       "    </tr>\n",
       "    <tr>\n",
       "      <th>2016-11-28</th>\n",
       "      <td>111.570000</td>\n",
       "      <td>766.770020</td>\n",
       "      <td>768.239990</td>\n",
       "      <td>60.610001</td>\n",
       "      <td>570.419983</td>\n",
       "    </tr>\n",
       "    <tr>\n",
       "      <th>2016-11-29</th>\n",
       "      <td>111.459999</td>\n",
       "      <td>762.520020</td>\n",
       "      <td>770.840027</td>\n",
       "      <td>61.090000</td>\n",
       "      <td>568.900024</td>\n",
       "    </tr>\n",
       "    <tr>\n",
       "      <th>2016-11-30</th>\n",
       "      <td>110.519997</td>\n",
       "      <td>750.570007</td>\n",
       "      <td>758.039978</td>\n",
       "      <td>60.259998</td>\n",
       "      <td>567.950012</td>\n",
       "    </tr>\n",
       "    <tr>\n",
       "      <th>2016-12-01</th>\n",
       "      <td>109.489998</td>\n",
       "      <td>743.650024</td>\n",
       "      <td>747.919983</td>\n",
       "      <td>59.200001</td>\n",
       "      <td>568.940002</td>\n",
       "    </tr>\n",
       "    <tr>\n",
       "      <th>2016-12-02</th>\n",
       "      <td>109.900002</td>\n",
       "      <td>740.340027</td>\n",
       "      <td>750.500000</td>\n",
       "      <td>59.250000</td>\n",
       "      <td>576.570007</td>\n",
       "    </tr>\n",
       "    <tr>\n",
       "      <th>2016-12-05</th>\n",
       "      <td>109.110001</td>\n",
       "      <td>759.359985</td>\n",
       "      <td>762.520020</td>\n",
       "      <td>60.220001</td>\n",
       "      <td>577.280029</td>\n",
       "    </tr>\n",
       "    <tr>\n",
       "      <th>2016-12-06</th>\n",
       "      <td>109.949997</td>\n",
       "      <td>764.719971</td>\n",
       "      <td>759.109985</td>\n",
       "      <td>59.950001</td>\n",
       "      <td>581.890015</td>\n",
       "    </tr>\n",
       "    <tr>\n",
       "      <th>2016-12-07</th>\n",
       "      <td>111.029999</td>\n",
       "      <td>770.419983</td>\n",
       "      <td>771.190002</td>\n",
       "      <td>61.369999</td>\n",
       "      <td>590.479980</td>\n",
       "    </tr>\n",
       "    <tr>\n",
       "      <th>2016-12-08</th>\n",
       "      <td>112.120003</td>\n",
       "      <td>767.330017</td>\n",
       "      <td>776.419983</td>\n",
       "      <td>61.009998</td>\n",
       "      <td>599.190002</td>\n",
       "    </tr>\n",
       "    <tr>\n",
       "      <th>2016-12-09</th>\n",
       "      <td>113.949997</td>\n",
       "      <td>768.659973</td>\n",
       "      <td>789.289978</td>\n",
       "      <td>61.970001</td>\n",
       "      <td>601.030029</td>\n",
       "    </tr>\n",
       "    <tr>\n",
       "      <th>2016-12-12</th>\n",
       "      <td>113.300003</td>\n",
       "      <td>760.119995</td>\n",
       "      <td>789.270020</td>\n",
       "      <td>62.169998</td>\n",
       "      <td>606.299988</td>\n",
       "    </tr>\n",
       "    <tr>\n",
       "      <th>2016-12-13</th>\n",
       "      <td>115.190002</td>\n",
       "      <td>774.340027</td>\n",
       "      <td>796.099976</td>\n",
       "      <td>62.980000</td>\n",
       "      <td>608.000000</td>\n",
       "    </tr>\n",
       "    <tr>\n",
       "      <th>2016-12-14</th>\n",
       "      <td>115.190002</td>\n",
       "      <td>768.820007</td>\n",
       "      <td>797.070007</td>\n",
       "      <td>62.680000</td>\n",
       "      <td>603.530029</td>\n",
       "    </tr>\n",
       "    <tr>\n",
       "      <th>2016-12-15</th>\n",
       "      <td>115.820000</td>\n",
       "      <td>761.000000</td>\n",
       "      <td>797.849976</td>\n",
       "      <td>62.580002</td>\n",
       "      <td>598.859985</td>\n",
       "    </tr>\n",
       "    <tr>\n",
       "      <th>2016-12-16</th>\n",
       "      <td>115.970001</td>\n",
       "      <td>757.770020</td>\n",
       "      <td>790.799988</td>\n",
       "      <td>62.299999</td>\n",
       "      <td>602.520020</td>\n",
       "    </tr>\n",
       "    <tr>\n",
       "      <th>2016-12-19</th>\n",
       "      <td>116.639999</td>\n",
       "      <td>766.000000</td>\n",
       "      <td>794.200012</td>\n",
       "      <td>63.619999</td>\n",
       "      <td>613.309998</td>\n",
       "    </tr>\n",
       "    <tr>\n",
       "      <th>2016-12-20</th>\n",
       "      <td>116.949997</td>\n",
       "      <td>771.219971</td>\n",
       "      <td>796.419983</td>\n",
       "      <td>63.540001</td>\n",
       "      <td>611.150024</td>\n",
       "    </tr>\n",
       "    <tr>\n",
       "      <th>2016-12-21</th>\n",
       "      <td>117.059998</td>\n",
       "      <td>770.599976</td>\n",
       "      <td>794.559998</td>\n",
       "      <td>63.540001</td>\n",
       "      <td>616.130005</td>\n",
       "    </tr>\n",
       "    <tr>\n",
       "      <th>2016-12-22</th>\n",
       "      <td>116.290001</td>\n",
       "      <td>766.340027</td>\n",
       "      <td>791.260010</td>\n",
       "      <td>63.549999</td>\n",
       "      <td>612.210022</td>\n",
       "    </tr>\n",
       "    <tr>\n",
       "      <th>2016-12-23</th>\n",
       "      <td>116.519997</td>\n",
       "      <td>760.590027</td>\n",
       "      <td>789.909973</td>\n",
       "      <td>63.240002</td>\n",
       "      <td>613.739990</td>\n",
       "    </tr>\n",
       "    <tr>\n",
       "      <th>2016-12-27</th>\n",
       "      <td>117.260002</td>\n",
       "      <td>771.400024</td>\n",
       "      <td>791.549988</td>\n",
       "      <td>63.279999</td>\n",
       "      <td>611.869995</td>\n",
       "    </tr>\n",
       "    <tr>\n",
       "      <th>2016-12-28</th>\n",
       "      <td>116.760002</td>\n",
       "      <td>772.130005</td>\n",
       "      <td>785.049988</td>\n",
       "      <td>62.990002</td>\n",
       "      <td>605.429993</td>\n",
       "    </tr>\n",
       "    <tr>\n",
       "      <th>2016-12-29</th>\n",
       "      <td>116.730003</td>\n",
       "      <td>765.150024</td>\n",
       "      <td>782.789978</td>\n",
       "      <td>62.900002</td>\n",
       "      <td>609.190002</td>\n",
       "    </tr>\n",
       "    <tr>\n",
       "      <th>2016-12-30</th>\n",
       "      <td>115.820000</td>\n",
       "      <td>749.869995</td>\n",
       "      <td>771.820007</td>\n",
       "      <td>62.139999</td>\n",
       "      <td>608.119995</td>\n",
       "    </tr>\n",
       "  </tbody>\n",
       "</table>\n",
       "<p>1762 rows × 5 columns</p>\n",
       "</div>"
      ],
      "text/plain": [
       "Symbols           AAPL        AMZN        GOOG       MSFT           Y\n",
       "Date                                                                 \n",
       "2010-01-04   30.572857  133.899994  312.204773  30.950001  263.408295\n",
       "2010-01-05   30.625713  134.690002  310.829926  30.959999  263.312195\n",
       "2010-01-06   30.138571  132.250000  302.994293  30.770000  263.398682\n",
       "2010-01-07   30.082857  130.000000  295.940735  30.450001  261.418671\n",
       "2010-01-08   30.282858  133.520004  299.885956  30.660000  259.928864\n",
       "2010-01-11   30.015715  130.309998  299.432648  30.270000  261.745483\n",
       "2010-01-12   29.674286  127.349998  294.137512  30.070000  258.842743\n",
       "2010-01-13   30.092857  129.110001  292.448822  30.350000  261.860809\n",
       "2010-01-14   29.918571  127.349998  293.823669  30.959999  260.428680\n",
       "2010-01-15   29.418571  127.139999  288.917053  30.860001  257.593231\n",
       "2010-01-19   30.719999  127.610001  292.712830  31.100000  259.900024\n",
       "2010-01-20   30.247143  125.779999  289.121307  30.590000  257.352936\n",
       "2010-01-21   29.724285  126.620003  290.401489  30.010000  255.190308\n",
       "2010-01-22   28.250000  121.430000  273.978058  28.959999  254.825073\n",
       "2010-01-25   29.010000  120.309998  268.991760  29.320000  258.294891\n",
       "2010-01-26   29.420000  119.480003  270.197235  29.500000  258.189148\n",
       "2010-01-27   29.697144  122.750000  270.037842  29.670000  260.717041\n",
       "2010-01-28   28.469999  126.029999  266.147400  29.160000  254.738556\n",
       "2010-01-29   27.437143  125.410004  263.980530  28.180000  250.970779\n",
       "2010-02-01   27.818571  118.870003  265.514771  28.410000  253.911957\n",
       "2010-02-02   27.980000  118.120003  264.568329  28.459999  254.133026\n",
       "2010-02-03   28.461428  119.099998  269.400208  28.629999  252.345245\n",
       "2010-02-04   27.435715  115.940002  262.406433  27.840000  249.423294\n",
       "2010-02-05   27.922857  117.389999  264.653015  28.020000  250.384460\n",
       "2010-02-08   27.731428  116.830002  265.738953  27.719999  248.750473\n",
       "2010-02-09   28.027143  118.029999  267.218414  28.010000  250.384460\n",
       "2010-02-10   27.874287  117.360001  266.227112  27.990000  248.942719\n",
       "2010-02-11   28.381428  120.089996  267.198486  28.120001  251.633987\n",
       "2010-02-12   28.625713  119.660004  265.564606  27.930000  253.133408\n",
       "2010-02-16   29.057142  117.529999  269.639313  28.350000  256.843536\n",
       "...                ...         ...         ...        ...         ...\n",
       "2016-11-17  109.949997  756.400024  771.229980  60.639999  567.510010\n",
       "2016-11-18  110.059998  760.159973  760.539978  60.349998  566.390015\n",
       "2016-11-21  111.730003  780.000000  769.200012  60.860001  566.020020\n",
       "2016-11-22  111.800003  785.330017  768.270020  61.119999  565.109985\n",
       "2016-11-23  111.230003  780.119995  760.989990  60.400002  574.710022\n",
       "2016-11-25  111.790001  780.369995  761.679993  60.529999  576.729980\n",
       "2016-11-28  111.570000  766.770020  768.239990  60.610001  570.419983\n",
       "2016-11-29  111.459999  762.520020  770.840027  61.090000  568.900024\n",
       "2016-11-30  110.519997  750.570007  758.039978  60.259998  567.950012\n",
       "2016-12-01  109.489998  743.650024  747.919983  59.200001  568.940002\n",
       "2016-12-02  109.900002  740.340027  750.500000  59.250000  576.570007\n",
       "2016-12-05  109.110001  759.359985  762.520020  60.220001  577.280029\n",
       "2016-12-06  109.949997  764.719971  759.109985  59.950001  581.890015\n",
       "2016-12-07  111.029999  770.419983  771.190002  61.369999  590.479980\n",
       "2016-12-08  112.120003  767.330017  776.419983  61.009998  599.190002\n",
       "2016-12-09  113.949997  768.659973  789.289978  61.970001  601.030029\n",
       "2016-12-12  113.300003  760.119995  789.270020  62.169998  606.299988\n",
       "2016-12-13  115.190002  774.340027  796.099976  62.980000  608.000000\n",
       "2016-12-14  115.190002  768.820007  797.070007  62.680000  603.530029\n",
       "2016-12-15  115.820000  761.000000  797.849976  62.580002  598.859985\n",
       "2016-12-16  115.970001  757.770020  790.799988  62.299999  602.520020\n",
       "2016-12-19  116.639999  766.000000  794.200012  63.619999  613.309998\n",
       "2016-12-20  116.949997  771.219971  796.419983  63.540001  611.150024\n",
       "2016-12-21  117.059998  770.599976  794.559998  63.540001  616.130005\n",
       "2016-12-22  116.290001  766.340027  791.260010  63.549999  612.210022\n",
       "2016-12-23  116.519997  760.590027  789.909973  63.240002  613.739990\n",
       "2016-12-27  117.260002  771.400024  791.549988  63.279999  611.869995\n",
       "2016-12-28  116.760002  772.130005  785.049988  62.990002  605.429993\n",
       "2016-12-29  116.730003  765.150024  782.789978  62.900002  609.190002\n",
       "2016-12-30  115.820000  749.869995  771.820007  62.139999  608.119995\n",
       "\n",
       "[1762 rows x 5 columns]"
      ]
     },
     "execution_count": 33,
     "metadata": {},
     "output_type": "execute_result"
    }
   ],
   "source": [
    "newmask.loc[\"Close\"]"
   ]
  },
  {
   "cell_type": "code",
   "execution_count": 34,
   "metadata": {},
   "outputs": [
    {
     "data": {
      "text/plain": [
       "Symbols\n",
       "AAPL     74.777145\n",
       "AMZN    327.070007\n",
       "GOOG    553.380676\n",
       "MSFT     39.820000\n",
       "Y       405.609985\n",
       "Name: 2014-04-08 00:00:00, dtype: float64"
      ]
     },
     "execution_count": 34,
     "metadata": {},
     "output_type": "execute_result"
    }
   ],
   "source": [
    "newmask.loc[\"Close\", \"2014-04-08\"]"
   ]
  },
  {
   "cell_type": "code",
   "execution_count": 35,
   "metadata": {},
   "outputs": [
    {
     "data": {
      "text/plain": [
       "553.3806762695312"
      ]
     },
     "execution_count": 35,
     "metadata": {},
     "output_type": "execute_result"
    }
   ],
   "source": [
    "#in order to extact record for google on that date we need a 3D array object\n",
    "newmask.loc[\"Close\", \"2014-04-08\", \"GOOG\"]"
   ]
  },
  {
   "cell_type": "code",
   "execution_count": 36,
   "metadata": {},
   "outputs": [
    {
     "data": {
      "text/plain": [
       "540.1270751953125"
      ]
     },
     "execution_count": 36,
     "metadata": {},
     "output_type": "execute_result"
    }
   ],
   "source": [
    "newmask.loc[\"Low\", \"2014-04-08\", \"GOOG\"]"
   ]
  },
  {
   "cell_type": "code",
   "execution_count": 37,
   "metadata": {},
   "outputs": [
    {
     "data": {
      "text/plain": [
       "Symbols\n",
       "AAPL     44.212856\n",
       "AMZN    158.669998\n",
       "GOOG    302.780121\n",
       "MSFT     25.100000\n",
       "Y       289.578430\n",
       "Name: 2010-10-19 00:00:00, dtype: float64"
      ]
     },
     "execution_count": 37,
     "metadata": {},
     "output_type": "execute_result"
    }
   ],
   "source": [
    "#Note that everything here has to do with index position\n",
    "#iloc always takes the index position\n",
    "#['High', 'Low', 'Open', 'Close', 'Volume', 'Adj Close']\n",
    "#[0, 1, 2, 3, 4, 5] respectivelively\n",
    "#selecting 3 will gv me data for the close after comma next argument will be for row label which is date\n",
    "#and then column fo the name of the comapny we want to extract\n",
    "newmask.iloc[3, 200]"
   ]
  },
  {
   "cell_type": "code",
   "execution_count": 38,
   "metadata": {},
   "outputs": [
    {
     "data": {
      "text/plain": [
       "44.21285629272461"
      ]
     },
     "execution_count": 38,
     "metadata": {},
     "output_type": "execute_result"
    }
   ],
   "source": [
    "#and then column fo the name of the comapny we want to extract\n",
    "newmask.iloc[3, 200, 0]"
   ]
  },
  {
   "cell_type": "code",
   "execution_count": 39,
   "metadata": {},
   "outputs": [
    {
     "name": "stderr",
     "output_type": "stream",
     "text": [
      "C:\\Users\\Maxwell\\Anaconda3\\lib\\site-packages\\ipykernel_launcher.py:2: DeprecationWarning: \n",
      ".ix is deprecated. Please use\n",
      ".loc for label based indexing or\n",
      ".iloc for positional indexing\n",
      "\n",
      "See the documentation here:\n",
      "http://pandas.pydata.org/pandas-docs/stable/indexing.html#ix-indexer-is-deprecated\n",
      "  \n"
     ]
    },
    {
     "data": {
      "text/plain": [
       "287.75"
      ]
     },
     "execution_count": 39,
     "metadata": {},
     "output_type": "execute_result"
    }
   ],
   "source": [
    "#with ix we can call either index label or index position\n",
    "newmask.ix[\"High\", 500, \"Y\"]"
   ]
  },
  {
   "cell_type": "markdown",
   "metadata": {},
   "source": [
    "# Convert Panel to a MultiIndex DataFrame (and Vice Versa)"
   ]
  },
  {
   "cell_type": "code",
   "execution_count": 40,
   "metadata": {},
   "outputs": [
    {
     "name": "stderr",
     "output_type": "stream",
     "text": [
      "C:\\Users\\Maxwell\\Anaconda3\\lib\\site-packages\\ipykernel_launcher.py:5: FutureWarning: \n",
      "Panel is deprecated and will be removed in a future version.\n",
      "The recommended way to represent these types of 3-dimensional data are with a MultiIndex on a DataFrame, via the Panel.to_frame() method\n",
      "Alternatively, you can use the xarray package http://xarray.pydata.org/en/stable/.\n",
      "Pandas provides a `.to_xarray()` method to help automate this conversion.\n",
      "\n",
      "  \"\"\"\n"
     ]
    },
    {
     "data": {
      "text/plain": [
       "<class 'pandas.core.panel.Panel'>\n",
       "Dimensions: 6 (items) x 1762 (major_axis) x 5 (minor_axis)\n",
       "Items axis: High to Adj Close\n",
       "Major_axis axis: 2010-01-04 00:00:00 to 2016-12-30 00:00:00\n",
       "Minor_axis axis: AAPL to Y"
      ]
     },
     "execution_count": 40,
     "metadata": {},
     "output_type": "execute_result"
    }
   ],
   "source": [
    "import pandas as pd\n",
    "from pandas_datareader import data\n",
    "companies = [\"MSFT\", \"GOOG\", \"AAPL\", \"Y\", \"AMZN\"]\n",
    "mask = data.DataReader(name = companies, data_source = \"yahoo\", start = \"2010-01-01\", end = \"2016-12-31\").stack()\n",
    "newmask = mask.to_panel()\n",
    "newmask"
   ]
  },
  {
   "cell_type": "code",
   "execution_count": 42,
   "metadata": {},
   "outputs": [
    {
     "data": {
      "text/html": [
       "<div>\n",
       "<style scoped>\n",
       "    .dataframe tbody tr th:only-of-type {\n",
       "        vertical-align: middle;\n",
       "    }\n",
       "\n",
       "    .dataframe tbody tr th {\n",
       "        vertical-align: top;\n",
       "    }\n",
       "\n",
       "    .dataframe thead th {\n",
       "        text-align: right;\n",
       "    }\n",
       "</style>\n",
       "<table border=\"1\" class=\"dataframe\">\n",
       "  <thead>\n",
       "    <tr style=\"text-align: right;\">\n",
       "      <th></th>\n",
       "      <th>Attributes</th>\n",
       "      <th>High</th>\n",
       "      <th>Low</th>\n",
       "      <th>Open</th>\n",
       "      <th>Close</th>\n",
       "      <th>Volume</th>\n",
       "      <th>Adj Close</th>\n",
       "    </tr>\n",
       "    <tr>\n",
       "      <th>Date</th>\n",
       "      <th>Symbols</th>\n",
       "      <th></th>\n",
       "      <th></th>\n",
       "      <th></th>\n",
       "      <th></th>\n",
       "      <th></th>\n",
       "      <th></th>\n",
       "    </tr>\n",
       "  </thead>\n",
       "  <tbody>\n",
       "    <tr>\n",
       "      <th rowspan=\"5\" valign=\"top\">2010-01-04</th>\n",
       "      <th>AAPL</th>\n",
       "      <td>30.642857</td>\n",
       "      <td>30.340000</td>\n",
       "      <td>30.490000</td>\n",
       "      <td>30.572857</td>\n",
       "      <td>123432400.0</td>\n",
       "      <td>26.782711</td>\n",
       "    </tr>\n",
       "    <tr>\n",
       "      <th>AMZN</th>\n",
       "      <td>136.610001</td>\n",
       "      <td>133.139999</td>\n",
       "      <td>136.250000</td>\n",
       "      <td>133.899994</td>\n",
       "      <td>7599900.0</td>\n",
       "      <td>133.899994</td>\n",
       "    </tr>\n",
       "    <tr>\n",
       "      <th>GOOG</th>\n",
       "      <td>313.579620</td>\n",
       "      <td>310.954468</td>\n",
       "      <td>312.304413</td>\n",
       "      <td>312.204773</td>\n",
       "      <td>3927000.0</td>\n",
       "      <td>312.204773</td>\n",
       "    </tr>\n",
       "    <tr>\n",
       "      <th>MSFT</th>\n",
       "      <td>31.100000</td>\n",
       "      <td>30.590000</td>\n",
       "      <td>30.620001</td>\n",
       "      <td>30.950001</td>\n",
       "      <td>38409100.0</td>\n",
       "      <td>24.525019</td>\n",
       "    </tr>\n",
       "    <tr>\n",
       "      <th>Y</th>\n",
       "      <td>266.512878</td>\n",
       "      <td>261.178406</td>\n",
       "      <td>266.512878</td>\n",
       "      <td>263.408295</td>\n",
       "      <td>14600.0</td>\n",
       "      <td>258.972778</td>\n",
       "    </tr>\n",
       "  </tbody>\n",
       "</table>\n",
       "</div>"
      ],
      "text/plain": [
       "Attributes                High         Low        Open       Close  \\\n",
       "Date       Symbols                                                   \n",
       "2010-01-04 AAPL      30.642857   30.340000   30.490000   30.572857   \n",
       "           AMZN     136.610001  133.139999  136.250000  133.899994   \n",
       "           GOOG     313.579620  310.954468  312.304413  312.204773   \n",
       "           MSFT      31.100000   30.590000   30.620001   30.950001   \n",
       "           Y        266.512878  261.178406  266.512878  263.408295   \n",
       "\n",
       "Attributes               Volume   Adj Close  \n",
       "Date       Symbols                           \n",
       "2010-01-04 AAPL     123432400.0   26.782711  \n",
       "           AMZN       7599900.0  133.899994  \n",
       "           GOOG       3927000.0  312.204773  \n",
       "           MSFT      38409100.0   24.525019  \n",
       "           Y            14600.0  258.972778  "
      ]
     },
     "execution_count": 42,
     "metadata": {},
     "output_type": "execute_result"
    }
   ],
   "source": [
    "#This automatically convert a panelto a multiIndex dataframe\n",
    "df = newmask.to_frame()\n",
    "df.head(5)"
   ]
  },
  {
   "cell_type": "code",
   "execution_count": 44,
   "metadata": {},
   "outputs": [
    {
     "name": "stderr",
     "output_type": "stream",
     "text": [
      "C:\\Users\\Maxwell\\Anaconda3\\lib\\site-packages\\ipykernel_launcher.py:1: FutureWarning: \n",
      "Panel is deprecated and will be removed in a future version.\n",
      "The recommended way to represent these types of 3-dimensional data are with a MultiIndex on a DataFrame, via the Panel.to_frame() method\n",
      "Alternatively, you can use the xarray package http://xarray.pydata.org/en/stable/.\n",
      "Pandas provides a `.to_xarray()` method to help automate this conversion.\n",
      "\n",
      "  \"\"\"Entry point for launching an IPython kernel.\n"
     ]
    },
    {
     "data": {
      "text/plain": [
       "<class 'pandas.core.panel.Panel'>\n",
       "Dimensions: 6 (items) x 1762 (major_axis) x 5 (minor_axis)\n",
       "Items axis: High to Adj Close\n",
       "Major_axis axis: 2010-01-04 00:00:00 to 2016-12-30 00:00:00\n",
       "Minor_axis axis: AAPL to Y"
      ]
     },
     "execution_count": 44,
     "metadata": {},
     "output_type": "execute_result"
    }
   ],
   "source": [
    "p2 = df.to_panel()\n",
    "p2"
   ]
  },
  {
   "cell_type": "markdown",
   "metadata": {},
   "source": [
    "# The .major_xs and .minor_xs"
   ]
  },
  {
   "cell_type": "code",
   "execution_count": 45,
   "metadata": {},
   "outputs": [
    {
     "name": "stderr",
     "output_type": "stream",
     "text": [
      "C:\\Users\\Maxwell\\Anaconda3\\lib\\site-packages\\ipykernel_launcher.py:5: FutureWarning: \n",
      "Panel is deprecated and will be removed in a future version.\n",
      "The recommended way to represent these types of 3-dimensional data are with a MultiIndex on a DataFrame, via the Panel.to_frame() method\n",
      "Alternatively, you can use the xarray package http://xarray.pydata.org/en/stable/.\n",
      "Pandas provides a `.to_xarray()` method to help automate this conversion.\n",
      "\n",
      "  \"\"\"\n"
     ]
    },
    {
     "data": {
      "text/plain": [
       "<class 'pandas.core.panel.Panel'>\n",
       "Dimensions: 6 (items) x 1762 (major_axis) x 5 (minor_axis)\n",
       "Items axis: High to Adj Close\n",
       "Major_axis axis: 2010-01-04 00:00:00 to 2016-12-30 00:00:00\n",
       "Minor_axis axis: AAPL to Y"
      ]
     },
     "execution_count": 45,
     "metadata": {},
     "output_type": "execute_result"
    }
   ],
   "source": [
    "import pandas as pd\n",
    "from pandas_datareader import data\n",
    "companies = [\"MSFT\", \"GOOG\", \"AAPL\", \"Y\", \"AMZN\"]\n",
    "mask = data.DataReader(name = companies, data_source = \"yahoo\", start = \"2010-01-01\", end = \"2016-12-31\").stack()\n",
    "newmask = mask.to_panel()\n",
    "newmask"
   ]
  },
  {
   "cell_type": "code",
   "execution_count": 46,
   "metadata": {},
   "outputs": [
    {
     "data": {
      "text/plain": [
       "DatetimeIndex(['2010-01-04', '2010-01-05', '2010-01-06', '2010-01-07',\n",
       "               '2010-01-08', '2010-01-11', '2010-01-12', '2010-01-13',\n",
       "               '2010-01-14', '2010-01-15',\n",
       "               ...\n",
       "               '2016-12-16', '2016-12-19', '2016-12-20', '2016-12-21',\n",
       "               '2016-12-22', '2016-12-23', '2016-12-27', '2016-12-28',\n",
       "               '2016-12-29', '2016-12-30'],\n",
       "              dtype='datetime64[ns]', name='Date', length=1762, freq=None)"
      ]
     },
     "execution_count": 46,
     "metadata": {},
     "output_type": "execute_result"
    }
   ],
   "source": [
    "newmask.major_axis"
   ]
  },
  {
   "cell_type": "code",
   "execution_count": 47,
   "metadata": {},
   "outputs": [
    {
     "data": {
      "text/html": [
       "<div>\n",
       "<style scoped>\n",
       "    .dataframe tbody tr th:only-of-type {\n",
       "        vertical-align: middle;\n",
       "    }\n",
       "\n",
       "    .dataframe tbody tr th {\n",
       "        vertical-align: top;\n",
       "    }\n",
       "\n",
       "    .dataframe thead th {\n",
       "        text-align: right;\n",
       "    }\n",
       "</style>\n",
       "<table border=\"1\" class=\"dataframe\">\n",
       "  <thead>\n",
       "    <tr style=\"text-align: right;\">\n",
       "      <th>Attributes</th>\n",
       "      <th>High</th>\n",
       "      <th>Low</th>\n",
       "      <th>Open</th>\n",
       "      <th>Close</th>\n",
       "      <th>Volume</th>\n",
       "      <th>Adj Close</th>\n",
       "    </tr>\n",
       "    <tr>\n",
       "      <th>Symbols</th>\n",
       "      <th></th>\n",
       "      <th></th>\n",
       "      <th></th>\n",
       "      <th></th>\n",
       "      <th></th>\n",
       "      <th></th>\n",
       "    </tr>\n",
       "  </thead>\n",
       "  <tbody>\n",
       "    <tr>\n",
       "      <th>AAPL</th>\n",
       "      <td>30.642857</td>\n",
       "      <td>30.340000</td>\n",
       "      <td>30.490000</td>\n",
       "      <td>30.572857</td>\n",
       "      <td>123432400.0</td>\n",
       "      <td>26.782711</td>\n",
       "    </tr>\n",
       "    <tr>\n",
       "      <th>AMZN</th>\n",
       "      <td>136.610001</td>\n",
       "      <td>133.139999</td>\n",
       "      <td>136.250000</td>\n",
       "      <td>133.899994</td>\n",
       "      <td>7599900.0</td>\n",
       "      <td>133.899994</td>\n",
       "    </tr>\n",
       "    <tr>\n",
       "      <th>GOOG</th>\n",
       "      <td>313.579620</td>\n",
       "      <td>310.954468</td>\n",
       "      <td>312.304413</td>\n",
       "      <td>312.204773</td>\n",
       "      <td>3927000.0</td>\n",
       "      <td>312.204773</td>\n",
       "    </tr>\n",
       "    <tr>\n",
       "      <th>MSFT</th>\n",
       "      <td>31.100000</td>\n",
       "      <td>30.590000</td>\n",
       "      <td>30.620001</td>\n",
       "      <td>30.950001</td>\n",
       "      <td>38409100.0</td>\n",
       "      <td>24.525019</td>\n",
       "    </tr>\n",
       "    <tr>\n",
       "      <th>Y</th>\n",
       "      <td>266.512878</td>\n",
       "      <td>261.178406</td>\n",
       "      <td>266.512878</td>\n",
       "      <td>263.408295</td>\n",
       "      <td>14600.0</td>\n",
       "      <td>258.972778</td>\n",
       "    </tr>\n",
       "  </tbody>\n",
       "</table>\n",
       "</div>"
      ],
      "text/plain": [
       "Attributes        High         Low        Open       Close       Volume  \\\n",
       "Symbols                                                                   \n",
       "AAPL         30.642857   30.340000   30.490000   30.572857  123432400.0   \n",
       "AMZN        136.610001  133.139999  136.250000  133.899994    7599900.0   \n",
       "GOOG        313.579620  310.954468  312.304413  312.204773    3927000.0   \n",
       "MSFT         31.100000   30.590000   30.620001   30.950001   38409100.0   \n",
       "Y           266.512878  261.178406  266.512878  263.408295      14600.0   \n",
       "\n",
       "Attributes   Adj Close  \n",
       "Symbols                 \n",
       "AAPL         26.782711  \n",
       "AMZN        133.899994  \n",
       "GOOG        312.204773  \n",
       "MSFT         24.525019  \n",
       "Y           258.972778  "
      ]
     },
     "execution_count": 47,
     "metadata": {},
     "output_type": "execute_result"
    }
   ],
   "source": [
    "#this allows us to provide a key with valid values and then pick a value above from the major axis\n",
    "#this will return a proper dataframe\n",
    "newmask.major_xs(\"2010-01-04\")"
   ]
  },
  {
   "cell_type": "code",
   "execution_count": 48,
   "metadata": {},
   "outputs": [
    {
     "data": {
      "text/plain": [
       "Index(['AAPL', 'AMZN', 'GOOG', 'MSFT', 'Y'], dtype='object', name='Symbols')"
      ]
     },
     "execution_count": 48,
     "metadata": {},
     "output_type": "execute_result"
    }
   ],
   "source": [
    "newmask.minor_axis"
   ]
  },
  {
   "cell_type": "code",
   "execution_count": 50,
   "metadata": {},
   "outputs": [
    {
     "data": {
      "text/html": [
       "<div>\n",
       "<style scoped>\n",
       "    .dataframe tbody tr th:only-of-type {\n",
       "        vertical-align: middle;\n",
       "    }\n",
       "\n",
       "    .dataframe tbody tr th {\n",
       "        vertical-align: top;\n",
       "    }\n",
       "\n",
       "    .dataframe thead th {\n",
       "        text-align: right;\n",
       "    }\n",
       "</style>\n",
       "<table border=\"1\" class=\"dataframe\">\n",
       "  <thead>\n",
       "    <tr style=\"text-align: right;\">\n",
       "      <th>Attributes</th>\n",
       "      <th>High</th>\n",
       "      <th>Low</th>\n",
       "      <th>Open</th>\n",
       "      <th>Close</th>\n",
       "      <th>Volume</th>\n",
       "      <th>Adj Close</th>\n",
       "    </tr>\n",
       "    <tr>\n",
       "      <th>Date</th>\n",
       "      <th></th>\n",
       "      <th></th>\n",
       "      <th></th>\n",
       "      <th></th>\n",
       "      <th></th>\n",
       "      <th></th>\n",
       "    </tr>\n",
       "  </thead>\n",
       "  <tbody>\n",
       "    <tr>\n",
       "      <th>2010-01-04</th>\n",
       "      <td>136.610001</td>\n",
       "      <td>133.139999</td>\n",
       "      <td>136.250000</td>\n",
       "      <td>133.899994</td>\n",
       "      <td>7599900.0</td>\n",
       "      <td>133.899994</td>\n",
       "    </tr>\n",
       "    <tr>\n",
       "      <th>2010-01-05</th>\n",
       "      <td>135.479996</td>\n",
       "      <td>131.809998</td>\n",
       "      <td>133.429993</td>\n",
       "      <td>134.690002</td>\n",
       "      <td>8851900.0</td>\n",
       "      <td>134.690002</td>\n",
       "    </tr>\n",
       "    <tr>\n",
       "      <th>2010-01-06</th>\n",
       "      <td>134.729996</td>\n",
       "      <td>131.649994</td>\n",
       "      <td>134.600006</td>\n",
       "      <td>132.250000</td>\n",
       "      <td>7178800.0</td>\n",
       "      <td>132.250000</td>\n",
       "    </tr>\n",
       "    <tr>\n",
       "      <th>2010-01-07</th>\n",
       "      <td>132.320007</td>\n",
       "      <td>128.800003</td>\n",
       "      <td>132.009995</td>\n",
       "      <td>130.000000</td>\n",
       "      <td>11030200.0</td>\n",
       "      <td>130.000000</td>\n",
       "    </tr>\n",
       "    <tr>\n",
       "      <th>2010-01-08</th>\n",
       "      <td>133.679993</td>\n",
       "      <td>129.029999</td>\n",
       "      <td>130.559998</td>\n",
       "      <td>133.520004</td>\n",
       "      <td>9830500.0</td>\n",
       "      <td>133.520004</td>\n",
       "    </tr>\n",
       "  </tbody>\n",
       "</table>\n",
       "</div>"
      ],
      "text/plain": [
       "Attributes        High         Low        Open       Close      Volume  \\\n",
       "Date                                                                     \n",
       "2010-01-04  136.610001  133.139999  136.250000  133.899994   7599900.0   \n",
       "2010-01-05  135.479996  131.809998  133.429993  134.690002   8851900.0   \n",
       "2010-01-06  134.729996  131.649994  134.600006  132.250000   7178800.0   \n",
       "2010-01-07  132.320007  128.800003  132.009995  130.000000  11030200.0   \n",
       "2010-01-08  133.679993  129.029999  130.559998  133.520004   9830500.0   \n",
       "\n",
       "Attributes   Adj Close  \n",
       "Date                    \n",
       "2010-01-04  133.899994  \n",
       "2010-01-05  134.690002  \n",
       "2010-01-06  132.250000  \n",
       "2010-01-07  130.000000  \n",
       "2010-01-08  133.520004  "
      ]
     },
     "execution_count": 50,
     "metadata": {},
     "output_type": "execute_result"
    }
   ],
   "source": [
    "minor = newmask.minor_xs(\"AMZN\")\n",
    "minor.head(5)"
   ]
  },
  {
   "cell_type": "markdown",
   "metadata": {},
   "source": [
    "# Transpose a panel with the .transpose() Method"
   ]
  },
  {
   "cell_type": "code",
   "execution_count": 51,
   "metadata": {},
   "outputs": [
    {
     "name": "stderr",
     "output_type": "stream",
     "text": [
      "C:\\Users\\Maxwell\\Anaconda3\\lib\\site-packages\\ipykernel_launcher.py:5: FutureWarning: \n",
      "Panel is deprecated and will be removed in a future version.\n",
      "The recommended way to represent these types of 3-dimensional data are with a MultiIndex on a DataFrame, via the Panel.to_frame() method\n",
      "Alternatively, you can use the xarray package http://xarray.pydata.org/en/stable/.\n",
      "Pandas provides a `.to_xarray()` method to help automate this conversion.\n",
      "\n",
      "  \"\"\"\n"
     ]
    },
    {
     "data": {
      "text/plain": [
       "<class 'pandas.core.panel.Panel'>\n",
       "Dimensions: 6 (items) x 1762 (major_axis) x 5 (minor_axis)\n",
       "Items axis: High to Adj Close\n",
       "Major_axis axis: 2010-01-04 00:00:00 to 2016-12-30 00:00:00\n",
       "Minor_axis axis: AAPL to Y"
      ]
     },
     "execution_count": 51,
     "metadata": {},
     "output_type": "execute_result"
    }
   ],
   "source": [
    "import pandas as pd\n",
    "from pandas_datareader import data\n",
    "companies = [\"MSFT\", \"GOOG\", \"AAPL\", \"Y\", \"AMZN\"]\n",
    "mask = data.DataReader(name = companies, data_source = \"yahoo\", start = \"2010-01-01\", end = \"2016-12-31\").stack()\n",
    "newmask = mask.to_panel()\n",
    "newmask"
   ]
  },
  {
   "cell_type": "code",
   "execution_count": 52,
   "metadata": {},
   "outputs": [
    {
     "data": {
      "text/plain": [
       "[Index(['High', 'Low', 'Open', 'Close', 'Volume', 'Adj Close'], dtype='object', name='Attributes'),\n",
       " DatetimeIndex(['2010-01-04', '2010-01-05', '2010-01-06', '2010-01-07',\n",
       "                '2010-01-08', '2010-01-11', '2010-01-12', '2010-01-13',\n",
       "                '2010-01-14', '2010-01-15',\n",
       "                ...\n",
       "                '2016-12-16', '2016-12-19', '2016-12-20', '2016-12-21',\n",
       "                '2016-12-22', '2016-12-23', '2016-12-27', '2016-12-28',\n",
       "                '2016-12-29', '2016-12-30'],\n",
       "               dtype='datetime64[ns]', name='Date', length=1762, freq=None),\n",
       " Index(['AAPL', 'AMZN', 'GOOG', 'MSFT', 'Y'], dtype='object', name='Symbols')]"
      ]
     },
     "execution_count": 52,
     "metadata": {},
     "output_type": "execute_result"
    }
   ],
   "source": [
    "#reordering into index, major, minor into a new panel in line with their index position\n",
    "newmask.axes\n"
   ]
  },
  {
   "cell_type": "code",
   "execution_count": 56,
   "metadata": {},
   "outputs": [
    {
     "name": "stderr",
     "output_type": "stream",
     "text": [
      "C:\\Users\\Maxwell\\Anaconda3\\lib\\site-packages\\pandas\\core\\panel.py:1255: FutureWarning: \n",
      "Panel is deprecated and will be removed in a future version.\n",
      "The recommended way to represent these types of 3-dimensional data are with a MultiIndex on a DataFrame, via the Panel.to_frame() method\n",
      "Alternatively, you can use the xarray package http://xarray.pydata.org/en/stable/.\n",
      "Pandas provides a `.to_xarray()` method to help automate this conversion.\n",
      "\n",
      "  return super(Panel, self).transpose(*axes, **kwargs)\n"
     ]
    },
    {
     "data": {
      "text/plain": [
       "<class 'pandas.core.panel.Panel'>\n",
       "Dimensions: 5 (items) x 1762 (major_axis) x 6 (minor_axis)\n",
       "Items axis: AAPL to Y\n",
       "Major_axis axis: 2010-01-04 00:00:00 to 2016-12-30 00:00:00\n",
       "Minor_axis axis: High to Adj Close"
      ]
     },
     "execution_count": 56,
     "metadata": {},
     "output_type": "execute_result"
    }
   ],
   "source": [
    "trans = newmask.transpose(2, 1, 0)\n",
    "trans"
   ]
  },
  {
   "cell_type": "code",
   "execution_count": 58,
   "metadata": {},
   "outputs": [
    {
     "data": {
      "text/html": [
       "<div>\n",
       "<style scoped>\n",
       "    .dataframe tbody tr th:only-of-type {\n",
       "        vertical-align: middle;\n",
       "    }\n",
       "\n",
       "    .dataframe tbody tr th {\n",
       "        vertical-align: top;\n",
       "    }\n",
       "\n",
       "    .dataframe thead th {\n",
       "        text-align: right;\n",
       "    }\n",
       "</style>\n",
       "<table border=\"1\" class=\"dataframe\">\n",
       "  <thead>\n",
       "    <tr style=\"text-align: right;\">\n",
       "      <th>Symbols</th>\n",
       "      <th>AAPL</th>\n",
       "      <th>AMZN</th>\n",
       "      <th>GOOG</th>\n",
       "      <th>MSFT</th>\n",
       "      <th>Y</th>\n",
       "    </tr>\n",
       "    <tr>\n",
       "      <th>Attributes</th>\n",
       "      <th></th>\n",
       "      <th></th>\n",
       "      <th></th>\n",
       "      <th></th>\n",
       "      <th></th>\n",
       "    </tr>\n",
       "  </thead>\n",
       "  <tbody>\n",
       "    <tr>\n",
       "      <th>High</th>\n",
       "      <td>3.064286e+01</td>\n",
       "      <td>1.366100e+02</td>\n",
       "      <td>3.135796e+02</td>\n",
       "      <td>3.110000e+01</td>\n",
       "      <td>266.512878</td>\n",
       "    </tr>\n",
       "    <tr>\n",
       "      <th>Low</th>\n",
       "      <td>3.034000e+01</td>\n",
       "      <td>1.331400e+02</td>\n",
       "      <td>3.109545e+02</td>\n",
       "      <td>3.059000e+01</td>\n",
       "      <td>261.178406</td>\n",
       "    </tr>\n",
       "    <tr>\n",
       "      <th>Open</th>\n",
       "      <td>3.049000e+01</td>\n",
       "      <td>1.362500e+02</td>\n",
       "      <td>3.123044e+02</td>\n",
       "      <td>3.062000e+01</td>\n",
       "      <td>266.512878</td>\n",
       "    </tr>\n",
       "    <tr>\n",
       "      <th>Close</th>\n",
       "      <td>3.057286e+01</td>\n",
       "      <td>1.339000e+02</td>\n",
       "      <td>3.122048e+02</td>\n",
       "      <td>3.095000e+01</td>\n",
       "      <td>263.408295</td>\n",
       "    </tr>\n",
       "    <tr>\n",
       "      <th>Volume</th>\n",
       "      <td>1.234324e+08</td>\n",
       "      <td>7.599900e+06</td>\n",
       "      <td>3.927000e+06</td>\n",
       "      <td>3.840910e+07</td>\n",
       "      <td>14600.000000</td>\n",
       "    </tr>\n",
       "  </tbody>\n",
       "</table>\n",
       "</div>"
      ],
      "text/plain": [
       "Symbols             AAPL          AMZN          GOOG          MSFT  \\\n",
       "Attributes                                                           \n",
       "High        3.064286e+01  1.366100e+02  3.135796e+02  3.110000e+01   \n",
       "Low         3.034000e+01  1.331400e+02  3.109545e+02  3.059000e+01   \n",
       "Open        3.049000e+01  1.362500e+02  3.123044e+02  3.062000e+01   \n",
       "Close       3.057286e+01  1.339000e+02  3.122048e+02  3.095000e+01   \n",
       "Volume      1.234324e+08  7.599900e+06  3.927000e+06  3.840910e+07   \n",
       "\n",
       "Symbols                Y  \n",
       "Attributes                \n",
       "High          266.512878  \n",
       "Low           261.178406  \n",
       "Open          266.512878  \n",
       "Close         263.408295  \n",
       "Volume      14600.000000  "
      ]
     },
     "execution_count": 58,
     "metadata": {},
     "output_type": "execute_result"
    }
   ],
   "source": [
    "tr_new = trans.major_xs(\"2010-01-04\")\n",
    "tr_new.head(5)"
   ]
  },
  {
   "cell_type": "code",
   "execution_count": 55,
   "metadata": {},
   "outputs": [
    {
     "data": {
      "text/plain": [
       "<class 'pandas.core.panel.Panel'>\n",
       "Dimensions: 6 (items) x 1762 (major_axis) x 5 (minor_axis)\n",
       "Items axis: High to Adj Close\n",
       "Major_axis axis: 2010-01-04 00:00:00 to 2016-12-30 00:00:00\n",
       "Minor_axis axis: AAPL to Y"
      ]
     },
     "execution_count": 55,
     "metadata": {},
     "output_type": "execute_result"
    }
   ],
   "source": [
    "newmask"
   ]
  },
  {
   "cell_type": "markdown",
   "metadata": {},
   "source": [
    "# swap axes method"
   ]
  },
  {
   "cell_type": "code",
   "execution_count": 59,
   "metadata": {},
   "outputs": [
    {
     "name": "stderr",
     "output_type": "stream",
     "text": [
      "C:\\Users\\Maxwell\\Anaconda3\\lib\\site-packages\\ipykernel_launcher.py:5: FutureWarning: \n",
      "Panel is deprecated and will be removed in a future version.\n",
      "The recommended way to represent these types of 3-dimensional data are with a MultiIndex on a DataFrame, via the Panel.to_frame() method\n",
      "Alternatively, you can use the xarray package http://xarray.pydata.org/en/stable/.\n",
      "Pandas provides a `.to_xarray()` method to help automate this conversion.\n",
      "\n",
      "  \"\"\"\n"
     ]
    },
    {
     "data": {
      "text/plain": [
       "<class 'pandas.core.panel.Panel'>\n",
       "Dimensions: 6 (items) x 1762 (major_axis) x 5 (minor_axis)\n",
       "Items axis: High to Adj Close\n",
       "Major_axis axis: 2010-01-04 00:00:00 to 2016-12-30 00:00:00\n",
       "Minor_axis axis: AAPL to Y"
      ]
     },
     "execution_count": 59,
     "metadata": {},
     "output_type": "execute_result"
    }
   ],
   "source": [
    "import pandas as pd\n",
    "from pandas_datareader import data\n",
    "companies = [\"MSFT\", \"GOOG\", \"AAPL\", \"Y\", \"AMZN\"]\n",
    "mask = data.DataReader(name = companies, data_source = \"yahoo\", start = \"2010-01-01\", end = \"2016-12-31\").stack()\n",
    "newmask = mask.to_panel()\n",
    "newmask"
   ]
  },
  {
   "cell_type": "code",
   "execution_count": 61,
   "metadata": {},
   "outputs": [
    {
     "name": "stderr",
     "output_type": "stream",
     "text": [
      "C:\\Users\\Maxwell\\Anaconda3\\lib\\site-packages\\ipykernel_launcher.py:2: FutureWarning: \n",
      "Panel is deprecated and will be removed in a future version.\n",
      "The recommended way to represent these types of 3-dimensional data are with a MultiIndex on a DataFrame, via the Panel.to_frame() method\n",
      "Alternatively, you can use the xarray package http://xarray.pydata.org/en/stable/.\n",
      "Pandas provides a `.to_xarray()` method to help automate this conversion.\n",
      "\n",
      "  \n"
     ]
    },
    {
     "data": {
      "text/plain": [
       "<class 'pandas.core.panel.Panel'>\n",
       "Dimensions: 5 (items) x 1762 (major_axis) x 6 (minor_axis)\n",
       "Items axis: AAPL to Y\n",
       "Major_axis axis: 2010-01-04 00:00:00 to 2016-12-30 00:00:00\n",
       "Minor_axis axis: High to Adj Close"
      ]
     },
     "execution_count": 61,
     "metadata": {},
     "output_type": "execute_result"
    }
   ],
   "source": [
    "#with swapaxes we are only calling the name of the access and the access we want to swap with\n",
    "last = newmask.swapaxes(\"items\", \"minor\")\n",
    "last"
   ]
  },
  {
   "cell_type": "code",
   "execution_count": 62,
   "metadata": {},
   "outputs": [
    {
     "data": {
      "text/plain": [
       "[Index(['AAPL', 'AMZN', 'GOOG', 'MSFT', 'Y'], dtype='object', name='Symbols'),\n",
       " DatetimeIndex(['2010-01-04', '2010-01-05', '2010-01-06', '2010-01-07',\n",
       "                '2010-01-08', '2010-01-11', '2010-01-12', '2010-01-13',\n",
       "                '2010-01-14', '2010-01-15',\n",
       "                ...\n",
       "                '2016-12-16', '2016-12-19', '2016-12-20', '2016-12-21',\n",
       "                '2016-12-22', '2016-12-23', '2016-12-27', '2016-12-28',\n",
       "                '2016-12-29', '2016-12-30'],\n",
       "               dtype='datetime64[ns]', name='Date', length=1762, freq=None),\n",
       " Index(['High', 'Low', 'Open', 'Close', 'Volume', 'Adj Close'], dtype='object', name='Attributes')]"
      ]
     },
     "execution_count": 62,
     "metadata": {},
     "output_type": "execute_result"
    }
   ],
   "source": [
    "last.axes"
   ]
  },
  {
   "cell_type": "code",
   "execution_count": null,
   "metadata": {},
   "outputs": [],
   "source": []
  },
  {
   "cell_type": "code",
   "execution_count": null,
   "metadata": {},
   "outputs": [],
   "source": []
  },
  {
   "cell_type": "code",
   "execution_count": null,
   "metadata": {},
   "outputs": [],
   "source": []
  },
  {
   "cell_type": "code",
   "execution_count": null,
   "metadata": {},
   "outputs": [],
   "source": []
  },
  {
   "cell_type": "code",
   "execution_count": null,
   "metadata": {},
   "outputs": [],
   "source": []
  },
  {
   "cell_type": "code",
   "execution_count": null,
   "metadata": {},
   "outputs": [],
   "source": []
  },
  {
   "cell_type": "code",
   "execution_count": null,
   "metadata": {},
   "outputs": [],
   "source": []
  },
  {
   "cell_type": "code",
   "execution_count": null,
   "metadata": {},
   "outputs": [],
   "source": []
  },
  {
   "cell_type": "code",
   "execution_count": null,
   "metadata": {},
   "outputs": [],
   "source": []
  },
  {
   "cell_type": "code",
   "execution_count": null,
   "metadata": {},
   "outputs": [],
   "source": []
  },
  {
   "cell_type": "code",
   "execution_count": null,
   "metadata": {},
   "outputs": [],
   "source": []
  },
  {
   "cell_type": "code",
   "execution_count": null,
   "metadata": {},
   "outputs": [],
   "source": []
  }
 ],
 "metadata": {
  "kernelspec": {
   "display_name": "Python 3",
   "language": "python",
   "name": "python3"
  },
  "language_info": {
   "codemirror_mode": {
    "name": "ipython",
    "version": 3
   },
   "file_extension": ".py",
   "mimetype": "text/x-python",
   "name": "python",
   "nbconvert_exporter": "python",
   "pygments_lexer": "ipython3",
   "version": "3.6.5"
  }
 },
 "nbformat": 4,
 "nbformat_minor": 2
}
