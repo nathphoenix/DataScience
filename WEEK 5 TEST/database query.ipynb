{
 "cells": [
  {
   "cell_type": "markdown",
   "metadata": {},
   "source": [
    "# 3a"
   ]
  },
  {
   "cell_type": "code",
   "execution_count": 16,
   "metadata": {},
   "outputs": [
    {
     "name": "stdout",
     "output_type": "stream",
     "text": [
      "[('James',), ('John',), ('Robert',), ('Michael',), ('William',), ('David',), ('Richard',), ('Joseph',), ('Charles',), ('Thomas',), ('Christopher',), ('Weston',), ('Merle',), ('Darrel',), ('Randal',), ('Ryder',), ('Dexter',), ('Corbin',), ('Esteban',), ('Marlon',), ('Beau',), ('Blaine',), ('Stewart',), ('Branden',), ('Heath',), ('Kameron',), ('Gilberto',), ('Cayden',), ('Will',), ('Silas',), ('Aubrey',), ('Quinn',), ('Hugo',), ('Deandre',), ('Lincoln',), ('Darnell',), ('Ezekiel',), ('Amos',), ('Bert',), ('Lukas',), ('Quinton',), ('Wilfred',), ('Sawyer',), ('Kyler',), ('Jarrod',), ('Antoine',), ('Easton',), ('Percy',), ('Emil',), ('Pat',), ('Lionel',), ('Mateo',), ('Solomon',), ('Sterling',), ('Kai',), ('Ezra',), ('Timmy',), ('Moises',), ('Brenden',), ('Johnathon',), ('Dewayne',), ('Zachariah',), ('Guadalupe',), ('Jude',), ('Kaiden',), ('Mickey',), ('Tomas',), ('Bentley',), ('Reid',), ('Kendrick',), ('Stephan',), ('Cade',), ('Axel',), ('Jaiden',), ('Jerald',), ('Rocco',), ('Rocky',), ('Bennett',), ('Adan',), ('Louie',), ('Reuben',), ('Ramiro',), ('Freddy',), ('Joaquin',), ('Rogelio',), ('Boyd',), ('Davis',), ('Jaxson',), ('Reed',), ('Van',), ('Eldon',), ('Marquis',), ('Payton',), ('Doug',), ('Cary',), ('Rylan',), ('Dominique',), ('Rolando',), ('Amir',), ('Lamont',), ('Kody',), ('Ali',), ('Royce',), ('Garland',), ('Isiah',), ('Rory',), ('Rodrigo',), ('Landen',), ('Winston',), ('Zion',), ('Quincy',), ('Darwin',), ('Jarrett',), ('Otto',), ('Grover',)]\n"
     ]
    }
   ],
   "source": [
    "import psycopg2\n",
    "from psycopg2 import pool\n",
    "\n",
    "class Database:\n",
    "\n",
    "    __connection_pool = None\n",
    "\n",
    "    @staticmethod\n",
    "    def initialise(**kwargs):\n",
    "        Database.__connection_pool = pool.SimpleConnectionPool(1, 10, **kwargs)\n",
    "\n",
    "    @staticmethod\n",
    "    def get_connection():\n",
    "        return Database.__connection_pool.getconn()\n",
    "\n",
    "    @staticmethod\n",
    "    def return_connection(connection):\n",
    "        Database.__connection_pool.putconn(connection)\n",
    "\n",
    "    @staticmethod\n",
    "    def close_all_connections():\n",
    "        Database.__connection_pool.closeall()\n",
    "\n",
    "class CursorFromConnectionPool:\n",
    "    def __init__(self):\n",
    "        self.conn = None\n",
    "        self.cursor = None\n",
    "\n",
    "    def __enter__(self):\n",
    "        self.conn = Database.get_connection()\n",
    "        self.cursor = self.conn.cursor()\n",
    "        return self.cursor\n",
    "\n",
    "    def __exit__(self, exception_type, exception_value, exception_traceback):\n",
    "        if exception_value:  # This is equivalent to `if exception_value is not None`\n",
    "            self.conn.rollback()\n",
    "        else:\n",
    "            self.cursor.close()\n",
    "            self.conn.commit()\n",
    "        Database.return_connection(self.conn)\n",
    "\n",
    "    \n",
    "class User:\n",
    "    def __init__(self, sex, name, id=None):\n",
    "        self.sex = sex\n",
    "        self.name = name\n",
    "        self.id = id\n",
    "\n",
    "    def __repr__(self):\n",
    "        return format(self.name)\n",
    "\n",
    "    \n",
    "    @classmethod\n",
    "    def load_from_db_by_name(cls, sex):\n",
    "        with CursorFromConnectionPool() as cursor:\n",
    "            # Note the (email,) to make it a tuple!\n",
    "            cursor.execute(\"SELECT name FROM pupils  WHERE sex = 'M' \", (sex,))\n",
    "            user_data = cursor.fetchall()\n",
    "            return user_data\n",
    "    \n",
    "Database.initialise(database=\"Learning\", user=\"postgres\", password=\"church75\", host=\"localhost\", port=5433)\n",
    "\n",
    "user_from_db = User.load_from_db_by_name('sex')\n",
    "\n",
    "print(user_from_db)\n",
    "\n",
    "\n"
   ]
  },
  {
   "cell_type": "markdown",
   "metadata": {},
   "source": [
    "# 3b"
   ]
  },
  {
   "cell_type": "code",
   "execution_count": 14,
   "metadata": {},
   "outputs": [
    {
     "name": "stdout",
     "output_type": "stream",
     "text": [
      "[('Mary',), ('Hillary',), ('Jolene',), ('Cathleen',), ('Fatima',), ('Estella',), ('Carissa',), ('Kayleigh',), ('Ora',), ('Joni',), ('Shauna',), ('Noelle',), ('Leanne',), ('Candy',), ('May',), ('Khloe',), ('Delia',), ('Brenna',), ('Karin',), ('Piper',), ('Haylee',), ('Fay',), ('Laila',), ('Lucile',), ('Tania',), ('Helena',), ('Etta',), ('Julianne',), ('Lea',), ('Sondra',), ('Macy',), ('Imogene',), ('Alyson',), ('Gwen',), ('Jayne',), ('Angelique',), ('Jodie',), ('Staci',), ('Ina',), ('Lorna',), ('Reese',), ('Polly',), ('Iva',), ('Makenna',), ('Eugenia',), ('Francesca',), ('London',), ('Cameron',), ('Lara',), ('Goldie',), ('Cleo',), ('Keira',), ('Tiana',), ('Brooklynn',), ('Daniella',), ('Jenifer',), ('Elva',), ('Luz',), ('Eliana',), ('Jewell',), ('Rosetta',), ('Susanne',), ('Kailey',), ('Eden',), ('Blanca',), ('Chasity',), ('Trudy',), ('Taryn',), ('Clare',), ('Amaya',), ('Camryn',), ('Kiana',), ('Francis',), ('Effie',), ('Aubree',), ('Tamika',), ('Kenya',), ('Maribel',), ('Tiara',), ('Lizbeth',), ('Paris',), ('Delilah',), ('Bettye',), ('Hilary',), ('Jeannine',), ('Rosalind',), ('Glenna',), ('Ingrid',), ('Leann',), ('Lizzie',), ('Alina',), ('Ericka',), ('Phoebe',), ('Latonya',), ('Leola',), ('Julissa',), ('Chris',), ('Hallie',), ('Simone',), ('Jeanine',), ('Bobbi',), ('Maritza',), ('Bridgette',), ('Elvira',), ('Keisha',), ('Audra',), ('Ola',), ('Heaven',), ('Paola',), ('Imani',), ('Sheena',), ('Luella',), ('Alivia',), ('Talia',), ('Deana',), ('Logan',), ('Leilani',), ('Lorie',), ('Tonia',), ('Jimmie',), ('Larissa',), ('Valentina',), ('Jeri',), ('Athena',), ('Alayna',), ('Jami',), ('Emilee',), ('Angelia',), ('Robbie',), ('Arielle',), ('Jayden',), ('Clarice',), ('Ashlynn',), ('Brielle',), ('Aniyah',), ('Elsa',)]\n"
     ]
    }
   ],
   "source": [
    "import psycopg2\n",
    "from psycopg2 import pool\n",
    "\n",
    "class Database:\n",
    "\n",
    "    __connection_pool = None\n",
    "\n",
    "    @staticmethod\n",
    "    def initialise(**kwargs):\n",
    "        Database.__connection_pool = pool.SimpleConnectionPool(1, 10, **kwargs)\n",
    "\n",
    "    @staticmethod\n",
    "    def get_connection():\n",
    "        return Database.__connection_pool.getconn()\n",
    "\n",
    "    @staticmethod\n",
    "    def return_connection(connection):\n",
    "        Database.__connection_pool.putconn(connection)\n",
    "\n",
    "    @staticmethod\n",
    "    def close_all_connections():\n",
    "        Database.__connection_pool.closeall()\n",
    "\n",
    "class CursorFromConnectionPool:\n",
    "    def __init__(self):\n",
    "        self.conn = None\n",
    "        self.cursor = None\n",
    "\n",
    "    def __enter__(self):\n",
    "        self.conn = Database.get_connection()\n",
    "        self.cursor = self.conn.cursor()\n",
    "        return self.cursor\n",
    "\n",
    "    def __exit__(self, exception_type, exception_value, exception_traceback):\n",
    "        if exception_value:  # This is equivalent to `if exception_value is not None`\n",
    "            self.conn.rollback()\n",
    "        else:\n",
    "            self.cursor.close()\n",
    "            self.conn.commit()\n",
    "        Database.return_connection(self.conn)\n",
    "\n",
    "    \n",
    "class User:\n",
    "    def __init__(self, sex, name, id=None):\n",
    "        self.sex = sex\n",
    "        self.name = name\n",
    "        self.id = id\n",
    "\n",
    "    def __repr__(self):\n",
    "        return format(self.name)\n",
    "\n",
    "   \n",
    "    @classmethod\n",
    "    def load_from_db_by_name(cls, sex):\n",
    "        with CursorFromConnectionPool() as cursor:\n",
    "            # Note the (email,) to make it a tuple!\n",
    "            cursor.execute(\"SELECT name AS female_names FROM pupils  WHERE sex = 'F' \", (sex,))\n",
    "            user_data = cursor.fetchall()\n",
    "            return user_data\n",
    "#         return cls(sex=user_data[1], name=user_data[2], id=user_data[0])\n",
    "    \n",
    "Database.initialise(database=\"Learning\", user=\"postgres\", password=\"church75\", host=\"localhost\", port=5433)\n",
    "\n",
    "\n",
    "user_from_db = User.load_from_db_by_name('sex')\n",
    "\n",
    "print(user_from_db)\n",
    "\n",
    "\n"
   ]
  },
  {
   "cell_type": "markdown",
   "metadata": {},
   "source": [
    "# 4"
   ]
  },
  {
   "cell_type": "code",
   "execution_count": 7,
   "metadata": {},
   "outputs": [
    {
     "name": "stdout",
     "output_type": "stream",
     "text": [
      "Database Table created successfully \n"
     ]
    }
   ],
   "source": [
    "import psycopg2\n",
    "\n",
    "try:\n",
    "    con = psycopg2.connect(database=\"Learning\", user=\"postgres\", password=\"church75\", host=\"localhost\", port=5433)\n",
    "\n",
    "    with con:\n",
    "\n",
    "        cur = con.cursor()\n",
    "\n",
    "        cur.execute(\"DROP TABLE IF EXISTS Names\")\n",
    "        cur.execute(\"CREATE TABLE Names( male_name VARCHAR(255))\")\n",
    "    \n",
    "        print(\"Database Table created successfully \")\n",
    "except (Exception, psycopg2.Error) as error :\n",
    "    print (\"Unable to create databse table \", error)"
   ]
  },
  {
   "cell_type": "markdown",
   "metadata": {},
   "source": [
    "# 5"
   ]
  },
  {
   "cell_type": "code",
   "execution_count": 8,
   "metadata": {},
   "outputs": [
    {
     "name": "stdout",
     "output_type": "stream",
     "text": [
      "Data inserted successfully, check your database\n"
     ]
    }
   ],
   "source": [
    "import psycopg2\n",
    "from psycopg2 import pool\n",
    "\n",
    "try:\n",
    "    class Database:\n",
    "\n",
    "        __connection_pool = None\n",
    "\n",
    "        @staticmethod\n",
    "        def initialise(**kwargs):\n",
    "            Database.__connection_pool = pool.SimpleConnectionPool(1, 10, **kwargs)\n",
    "\n",
    "        @staticmethod\n",
    "        def get_connection():\n",
    "            return Database.__connection_pool.getconn()\n",
    "\n",
    "        @staticmethod\n",
    "        def return_connection(connection):\n",
    "            Database.__connection_pool.putconn(connection)\n",
    "\n",
    "        @staticmethod\n",
    "        def close_all_connections():\n",
    "            Database.__connection_pool.closeall()\n",
    "\n",
    "    class CursorFromConnectionPool:\n",
    "        def __init__(self):\n",
    "            self.conn = None\n",
    "            self.cursor = None\n",
    "\n",
    "        def __enter__(self):\n",
    "            self.conn = Database.get_connection()\n",
    "            self.cursor = self.conn.cursor()\n",
    "            return self.cursor\n",
    "\n",
    "        def __exit__(self, exception_type, exception_value, exception_traceback):\n",
    "            if exception_value:  # This is equivalent to `if exception_value is not None`\n",
    "                self.conn.rollback()\n",
    "            else:\n",
    "                self.cursor.close()\n",
    "                self.conn.commit()\n",
    "            Database.return_connection(self.conn)\n",
    "\n",
    "    \n",
    "    class User:\n",
    "        def __init__(self, sex, name, id=None):\n",
    "            self.sex = sex\n",
    "            self.name = name\n",
    "            self.id = id\n",
    "\n",
    "        def __repr__(self):\n",
    "            return format(self.name)\n",
    "\n",
    "    # inserting male list\n",
    "        def save_to_db(self):\n",
    "        # This is creating a new connection pool every time!\n",
    "            with CursorFromConnectionPool() as cursor:\n",
    "                cursor.execute(\"INSERT INTO Names SELECT name FROM pupils  WHERE sex = 'M' \")\n",
    "\n",
    "    \n",
    "    Database.initialise(database=\"Learning\", user=\"postgres\", password=\"church75\", host=\"localhost\", port=5433)\n",
    "\n",
    "    user = User('id', 'sex', 'name' )\n",
    "\n",
    "    user.save_to_db()\n",
    "\n",
    "    # user_from_db = User.load_from_db_by_name('sex')\n",
    "\n",
    "    print(\"Data inserted successfully, check your database\")\n",
    "\n",
    "\n",
    "except (Exception, psycopg2.Error) as error :\n",
    "    print (\"Unable to insert data into the table \", error)\n"
   ]
  },
  {
   "cell_type": "code",
   "execution_count": null,
   "metadata": {},
   "outputs": [],
   "source": []
  }
 ],
 "metadata": {
  "kernelspec": {
   "display_name": "Python 3",
   "language": "python",
   "name": "python3"
  },
  "language_info": {
   "codemirror_mode": {
    "name": "ipython",
    "version": 3
   },
   "file_extension": ".py",
   "mimetype": "text/x-python",
   "name": "python",
   "nbconvert_exporter": "python",
   "pygments_lexer": "ipython3",
   "version": "3.6.5"
  }
 },
 "nbformat": 4,
 "nbformat_minor": 2
}
