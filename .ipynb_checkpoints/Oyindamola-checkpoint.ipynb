{
 "cells": [
  {
   "cell_type": "code",
   "execution_count": 18,
   "metadata": {},
   "outputs": [
    {
     "name": "stdout",
     "output_type": "stream",
     "text": [
      "Please enter your url www.gsmarena.com\n",
      "Your Shortened Url is https://www.oaewo.ag.com\n"
     ]
    }
   ],
   "source": [
    "import random\n",
    "import urllib\n",
    "import string\n",
    "\n",
    "def randomString(stringLength = 10):\n",
    "    \"\"\"Generate a random string of fixed length \"\"\"\n",
    "    email = None\n",
    "    user = None\n",
    "    url_address = input(\"Please enter your url \")\n",
    "#     prime_const = (\".com\")\n",
    "#     url_address.extend(prime_const) \n",
    "    \n",
    "#     for k in range(1, num+1):\n",
    "#     str.append(random.choice(chars))\n",
    "#     letters = string.ascii_lowercase\n",
    "    return ''.join(random.choice(url_address) \n",
    "                   for i in range(1, stringLength-1))\n",
    "    \n",
    "print (\"Your Shortened Url is \" + \"https://www.\" +  randomString() + \".com\" )\n",
    "# print (\"Random String is \", randomString(10) )\n",
    "# print (\"Random String is \", randomString(10) )\n",
    "\n"
   ]
  },
  {
   "cell_type": "code",
   "execution_count": 6,
   "metadata": {},
   "outputs": [
    {
     "name": "stdout",
     "output_type": "stream",
     "text": [
      "['geeks', 'for', '.com']\n"
     ]
    }
   ],
   "source": [
    "my_list = ['geeks', 'for'] \n",
    "another_list = [\".com\"] \n",
    "my_list.extend(another_list) \n",
    "print (my_list) "
   ]
  },
  {
   "cell_type": "code",
   "execution_count": 28,
   "metadata": {},
   "outputs": [
    {
     "name": "stdout",
     "output_type": "stream",
     "text": [
      "Database Table created successfully \n"
     ]
    }
   ],
   "source": [
    "import psycopg2\n",
    "\n",
    "try:\n",
    "    con = psycopg2.connect(database=\"Learning\", user=\"postgres\", password=\"church75\", host=\"localhost\", port=5433)\n",
    "\n",
    "    with con:\n",
    "\n",
    "        cursor = con.cursor()\n",
    "\n",
    "        cursor.execute(\"DROP TABLE IF EXISTS Website\")\n",
    "        cursor.execute(\"CREATE TABLE Website( original_url VARCHAR(255), shortened_url VARCHAR(255))\")\n",
    "    \n",
    "        print(\"Database Table created successfully \")\n",
    "except (Exception, psycopg2.Error) as error :\n",
    "    print (\"Unable to create databse table \", error)"
   ]
  },
  {
   "cell_type": "code",
   "execution_count": 75,
   "metadata": {},
   "outputs": [
    {
     "name": "stdout",
     "output_type": "stream",
     "text": [
      "Selecting rows from mobile table using cursor.fetchall\n",
      "PostgreSQL connection is closed\n"
     ]
    }
   ],
   "source": [
    "import psycopg2\n",
    "try:\n",
    "   connection = psycopg2.connect(database=\"Learning\", user=\"postgres\", password=\"church75\", host=\"localhost\", port=5433)\n",
    "   cursor = connection.cursor()\n",
    "   postgreSQL_select_Query = \"SELECT *  FROM Website \"\n",
    "   cursor.execute(postgreSQL_select_Query)\n",
    "   print(\"Selecting rows from mobile table using cursor.fetchall\")\n",
    "   mobile_records = cursor.fetchall() \n",
    "   \n",
    "   \n",
    "except (Exception, psycopg2.Error) as error :\n",
    "    print (\"Error while fetching data from PostgreSQL\", error)\n",
    "finally:\n",
    "    #closing database connection.\n",
    "    if(connection):\n",
    "        cursor.close()\n",
    "        connection.close()\n",
    "        print(\"PostgreSQL connection is closed\")"
   ]
  },
  {
   "cell_type": "code",
   "execution_count": 23,
   "metadata": {},
   "outputs": [
    {
     "name": "stdout",
     "output_type": "stream",
     "text": [
      "Please enter your url heyeye\n",
      "Your Shortened Url is https://www.hyyeeeey.com\n",
      "Please enter your url gegeg\n",
      "Unable to insert data into the table  unsupported operand type(s) for -: 'str' and 'int'\n"
     ]
    }
   ],
   "source": [
    "import psycopg2\n",
    "from psycopg2 import pool\n",
    "import random\n",
    "import urllib\n",
    "import string\n",
    "\n",
    "try:\n",
    "    class Database:\n",
    "\n",
    "        __connection_pool = None\n",
    "\n",
    "        @staticmethod\n",
    "        def initialise(**kwargs):\n",
    "            Database.__connection_pool = pool.SimpleConnectionPool(1, 10, **kwargs)\n",
    "\n",
    "        @staticmethod\n",
    "        def get_connection():\n",
    "            return Database.__connection_pool.getconn()\n",
    "\n",
    "        @staticmethod\n",
    "        def return_connection(connection):\n",
    "            Database.__connection_pool.putconn(connection)\n",
    "\n",
    "        @staticmethod\n",
    "        def close_all_connections():\n",
    "            Database.__connection_pool.closeall()\n",
    "\n",
    "    class CursorFromConnectionPool:\n",
    "        def __init__(self):\n",
    "            self.conn = None\n",
    "            self.cursor = None\n",
    "\n",
    "        def __enter__(self):\n",
    "            self.conn = Database.get_connection()\n",
    "            self.cursor = self.conn.cursor()\n",
    "            return self.cursor\n",
    "\n",
    "        def __exit__(self, exception_type, exception_value, exception_traceback):\n",
    "            if exception_value:  # This is equivalent to `if exception_value is not None`\n",
    "                self.conn.rollback()\n",
    "            else:\n",
    "                self.cursor.close()\n",
    "                self.conn.commit()\n",
    "            Database.return_connection(self.conn)\n",
    "\n",
    "    \n",
    "    class Web:\n",
    "        def __init__(self, url_address, shortened_url):\n",
    "            self.url_address = url_address\n",
    "            self.shortened_url = shortened_url\n",
    "            \n",
    "\n",
    "        def __repr__(self):\n",
    "            return format(self.shortened_url)\n",
    "        \n",
    "        \n",
    "        def randomString(stringLength = 10):\n",
    "            \n",
    "            url_address = None\n",
    "            shortened_url = None\n",
    "            url_address = input(\"Please enter your url \")\n",
    "            \n",
    "            return ''.join(random.choice(url_address) \n",
    "                   for i in range(1, stringLength-1))\n",
    "    \n",
    "        shortened_url = print (\"Your Shortened Url is \" + \"https://www.\" +  randomString() + \".com\" )\n",
    "        \n",
    "        \n",
    "    # inserting male list\n",
    "        def save_to_db(self):\n",
    "            url_address = None\n",
    "            shortened_url = None\n",
    "        # This is creating a new connection pool every time!\n",
    "            with CursorFromConnectionPool() as cursor:\n",
    "                cursor.execute(\"INSERT INTO Website (original_url, shortened_url) VALUES (%s, %s)\", ( self.url_address, self.shortened_url))\n",
    "           \n",
    "    \n",
    "    Database.initialise(database=\"Learning\", user=\"postgres\", password=\"church75\", host=\"localhost\", port=5433)\n",
    "\n",
    "    user = Web('url_address', 'shortened_url')\n",
    "    url_address = Web.randomString(url_address)\n",
    "    shortened_url = Web.randomString(shortened_url)\n",
    "    if url_address != url_address and shortened_url != shortened_url :\n",
    "        user.save_to_db()\n",
    "        print(\"Data inserted successfully, check your database \")\n",
    "    else :\n",
    "        print(\"can't add a column name as input value\")\n",
    "    \n",
    "\n",
    "   \n",
    "\n",
    "    \n",
    "\n",
    "\n",
    "except (Exception, psycopg2.Error) as error :\n",
    "    print (\"Unable to insert data into the table \", error)\n"
   ]
  },
  {
   "cell_type": "code",
   "execution_count": null,
   "metadata": {},
   "outputs": [],
   "source": []
  }
 ],
 "metadata": {
  "kernelspec": {
   "display_name": "Python 3",
   "language": "python",
   "name": "python3"
  },
  "language_info": {
   "codemirror_mode": {
    "name": "ipython",
    "version": 3
   },
   "file_extension": ".py",
   "mimetype": "text/x-python",
   "name": "python",
   "nbconvert_exporter": "python",
   "pygments_lexer": "ipython3",
   "version": "3.6.5"
  }
 },
 "nbformat": 4,
 "nbformat_minor": 2
}
