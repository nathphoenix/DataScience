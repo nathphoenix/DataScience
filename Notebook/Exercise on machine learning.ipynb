{
 "cells": [
  {
   "cell_type": "code",
   "execution_count": 1,
   "metadata": {},
   "outputs": [],
   "source": [
    "import numpy as np\n",
    "v = [1/3, 1/3, 1/3]"
   ]
  },
  {
   "cell_type": "code",
   "execution_count": 3,
   "metadata": {},
   "outputs": [
    {
     "data": {
      "text/plain": [
       "1.0"
      ]
     },
     "execution_count": 3,
     "metadata": {},
     "output_type": "execute_result"
    }
   ],
   "source": [
    "np.sum(v)"
   ]
  },
  {
   "cell_type": "code",
   "execution_count": 36,
   "metadata": {},
   "outputs": [
    {
     "data": {
      "text/plain": [
       "array([0.33333333, 0.26666667, 0.33333333, 0.33333333, 0.26666667,\n",
       "       0.33333333, 0.33333333, 0.26666667, 0.33333333, 0.33333333,\n",
       "       0.26666667, 0.33333333, 0.33333333, 0.26666667, 0.33333333,\n",
       "       0.33333333, 0.26666667, 0.33333333, 0.33333333, 0.26666667,\n",
       "       0.33333333, 0.33333333, 0.26666667, 0.33333333, 0.33333333,\n",
       "       0.26666667, 0.33333333, 0.33333333, 0.26666667, 0.33333333,\n",
       "       0.33333333, 0.26666667, 0.33333333, 0.33333333, 0.26666667,\n",
       "       0.33333333, 0.33333333, 0.26666667, 0.33333333, 0.33333333,\n",
       "       0.26666667, 0.33333333, 0.33333333, 0.26666667, 0.33333333,\n",
       "       0.33333333, 0.26666667, 0.33333333, 0.33333333, 0.26666667,\n",
       "       0.33333333, 0.33333333, 0.26666667, 0.33333333, 0.33333333,\n",
       "       0.26666667, 0.33333333, 0.33333333, 0.26666667, 0.33333333,\n",
       "       0.33333333, 0.26666667, 0.33333333, 0.33333333, 0.26666667,\n",
       "       0.33333333, 0.33333333, 0.26666667, 0.33333333, 0.33333333,\n",
       "       0.26666667, 0.33333333, 0.33333333, 0.26666667, 0.33333333])"
      ]
     },
     "execution_count": 36,
     "metadata": {},
     "output_type": "execute_result"
    }
   ],
   "source": [
    "import numpy as np\n",
    "A = np.array([[0.3, 0.6, 0.1], [0.5, 0.2, 0.1], [0.4, 0.1, 0.5]])\n",
    "v = [1/3, 1/3, 1/3]\n",
    "counter = 25\n",
    "NewV = A.dot(v)\n",
    "np.tile(NewV, 25)\n",
    "# np.repeat(NewV, 25) #repeating this event 25 times\n",
    "# while counter :\n",
    "#     for e, f in zip(A, v):\n",
    "#         NewV = A.dot(v)\n",
    "#         counter +=\n",
    "#         print (NewV)\n",
    "# m = v.dot(A)"
   ]
  },
  {
   "cell_type": "code",
   "execution_count": 43,
   "metadata": {},
   "outputs": [
    {
     "data": {
      "text/plain": [
       "array([0.33333333, 0.33333333, 0.33333333, 0.33333333, 0.33333333,\n",
       "       0.33333333, 0.33333333, 0.33333333, 0.33333333, 0.33333333,\n",
       "       0.33333333, 0.33333333, 0.33333333, 0.33333333, 0.33333333,\n",
       "       0.33333333, 0.33333333, 0.33333333, 0.33333333, 0.33333333,\n",
       "       0.33333333, 0.33333333, 0.33333333, 0.33333333, 0.33333333,\n",
       "       0.26666667, 0.26666667, 0.26666667, 0.26666667, 0.26666667,\n",
       "       0.26666667, 0.26666667, 0.26666667, 0.26666667, 0.26666667,\n",
       "       0.26666667, 0.26666667, 0.26666667, 0.26666667, 0.26666667,\n",
       "       0.26666667, 0.26666667, 0.26666667, 0.26666667, 0.26666667,\n",
       "       0.26666667, 0.26666667, 0.26666667, 0.26666667, 0.26666667,\n",
       "       0.33333333, 0.33333333, 0.33333333, 0.33333333, 0.33333333,\n",
       "       0.33333333, 0.33333333, 0.33333333, 0.33333333, 0.33333333,\n",
       "       0.33333333, 0.33333333, 0.33333333, 0.33333333, 0.33333333,\n",
       "       0.33333333, 0.33333333, 0.33333333, 0.33333333, 0.33333333,\n",
       "       0.33333333, 0.33333333, 0.33333333, 0.33333333, 0.33333333])"
      ]
     },
     "execution_count": 43,
     "metadata": {},
     "output_type": "execute_result"
    }
   ],
   "source": [
    "import numpy as np\n",
    "A = np.array([[0.3, 0.6, 0.1], [0.5, 0.2, 0.1], [0.4, 0.1, 0.5]])\n",
    "v = [1/3, 1/3, 1/3]\n",
    "counter = 25\n",
    "NewV = A.dot(v)\n",
    "np.repeat(NewV, 25) #repeating this event 25 times"
   ]
  },
  {
   "cell_type": "code",
   "execution_count": null,
   "metadata": {},
   "outputs": [],
   "source": [
    "import numpy as np\n",
    "A = np.array([[0.3, 0.6, 0.1], [0.5, 0.2, 0.1], [0.4, 0.1, 0.5]])\n",
    "v = [1/3, 1/3, 1/3]\n",
    "counter = 25\n",
    "NewV = A.dot(v)\n",
    "rep = np.repeat(NewV, 25)\n",
    "# dist = np.linalg.norm(NewV-v, 25) # this is mainly for normal distribution\n",
    "dist = np.subtract(NewV-v)\n",
    "new = np.repeat(dist, 1)\n",
    "print(rep)\n",
    "print(new)"
   ]
  },
  {
   "cell_type": "code",
   "execution_count": null,
   "metadata": {},
   "outputs": [],
   "source": [
    "dist"
   ]
  },
  {
   "cell_type": "code",
   "execution_count": null,
   "metadata": {},
   "outputs": [],
   "source": []
  }
 ],
 "metadata": {
  "kernelspec": {
   "display_name": "Python 3",
   "language": "python",
   "name": "python3"
  },
  "language_info": {
   "codemirror_mode": {
    "name": "ipython",
    "version": 3
   },
   "file_extension": ".py",
   "mimetype": "text/x-python",
   "name": "python",
   "nbconvert_exporter": "python",
   "pygments_lexer": "ipython3",
   "version": "3.6.5"
  }
 },
 "nbformat": 4,
 "nbformat_minor": 2
}
